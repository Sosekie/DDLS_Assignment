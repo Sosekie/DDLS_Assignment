{
 "cells": [
  {
   "cell_type": "markdown",
   "metadata": {},
   "source": [
    "# Homework - Attacks and Defenses in Federated Learning\n",
    "\n",
    "> ✨\n",
    "> \n",
    "> `🥝Name` \n",
    "> - Chenrui Fan\n",
    "> \n",
    "> `🍉Student ID` \n",
    "> - 23-125-818\n",
    "> \n",
    "> `🍑Github` \n",
    "> - [Link](https://github.com/Sosekie/DDLS_Assignment/blob/main/lab/Chenrui_hw-attacks.ipynb)\n",
    "> \n",
    "> ✨\n",
    "\n",
    "In this assignment, we will further explore the impact of various attacks and corresponding defenses within the context of federated learning. \n",
    "\n",
    "# Instructions\n",
    "\n",
    "Submit your assignment as a Jupyter notebook with all relevant execution outputs and plots visible. Clearly indicate the relevant steps in your code, such as data preprocessing, model definition, training, etc. Partial grades can be given for incomplete problems provided the steps are clearly indicated."
   ]
  },
  {
   "cell_type": "markdown",
   "metadata": {},
   "source": [
    "## Question 1: Influence of Non-I.I.D. Data in Attacks and Defenses (4 points)\n",
    "\n",
    "Using the template code from [lab-attacks.ipynb](https://github.com/lydiaYchen/DDL24Spring/blob/main/lab/lab-attacks.ipynb), experiment with how non-i.i.d. data distributions influence the performance of attacks and defenses. Utilize the `AttackerGradientReversion` for the attack. Keep all hyperparameters the same as those in the template code, except modify the data distribution among the clients to be non-i.i.d.\n",
    "\n",
    "### Scoring:\n",
    "\n",
    "- _(1 point)_ Generate test accuracy for 10 rounds, both when there is no defense and when the defenses are `krum`, `multi_krum`, and `majority_sign`. \n",
    "- _(1 point)_ Compile the results of these runs into one plot to visually compare the influence of each defense mechanism under non-i.i.d. conditions.\n",
    "- _(2 points)_ Discuss the differences (if any) between the results in i.i.d. and non-i.i.d. settings for each defense mechanism. "
   ]
  },
  {
   "cell_type": "code",
   "execution_count": 2,
   "metadata": {},
   "outputs": [
    {
     "name": "stdout",
     "output_type": "stream",
     "text": [
      "cuda\n",
      "GPU Type: NVIDIA GeForce RTX 4090\n"
     ]
    }
   ],
   "source": [
    "from base import *\n",
    "if torch.cuda.is_available():\n",
    "    gpu_type = torch.cuda.get_device_name(0)\n",
    "    print(\"GPU Type:\", gpu_type)"
   ]
  },
  {
   "cell_type": "markdown",
   "metadata": {},
   "source": [
    "### - _(1 point)_ Generate test accuracy for 10 rounds, both when there is no defense and when the defenses are `krum`, `multi_krum`, and `majority_sign`. "
   ]
  },
  {
   "cell_type": "markdown",
   "metadata": {},
   "source": [
    "Modify the data distribution among the clients to be non-i.i.d."
   ]
  },
  {
   "cell_type": "code",
   "execution_count": 2,
   "metadata": {},
   "outputs": [],
   "source": [
    "sample_split_iid = split(100, True, 42)\n",
    "sample_split_non_iid = split(100, False, 42)\n",
    "sample_splits = [sample_split_iid, sample_split_non_iid]\n",
    "result = []"
   ]
  },
  {
   "cell_type": "code",
   "execution_count": 3,
   "metadata": {},
   "outputs": [],
   "source": [
    "class GradWeightClient(Client):\n",
    "    def __init__(self, client_data: Subset, lr: float, batch_size: int, nr_epochs: int) -> None:\n",
    "        super().__init__(client_data, batch_size)\n",
    "        self.optimizer = SGD(params=self.model.parameters(), lr=lr)\n",
    "        self.nr_epochs = nr_epochs\n",
    "    def update(self, weights: list[torch.Tensor], seed: int) -> list[torch.Tensor]:\n",
    "        with torch.no_grad():\n",
    "            for client_values, server_values in zip(self.model.parameters(), weights):\n",
    "                client_values[:] = server_values\n",
    "        self.generator.manual_seed(seed)\n",
    "        initial_weights = [param.clone() for param in self.model.parameters()]\n",
    "        for _epoch in range(self.nr_epochs):\n",
    "            train_epoch(self.model, self.loader_train, self.optimizer)\n",
    "        gradients = [initial_weight - final_weight for final_weight, initial_weight in zip(self.model.parameters(), initial_weights)]\n",
    "        return [gradient.detach().cpu().clone() for gradient in gradients]\n",
    "    \n",
    "\n",
    "class FedAvgGradServer(DecentralizedServer):\n",
    "    def __init__(\n",
    "            self, lr: float, batch_size: int, client_subsets: list[Subset],\n",
    "            client_fraction: float, nr_local_epochs: int, seed: int) -> None:\n",
    "        super().__init__(lr, batch_size, client_subsets, client_fraction, seed)\n",
    "        self.name = \"FedAvg\"\n",
    "        self.nr_local_epochs = nr_local_epochs\n",
    "        self.clients = [\n",
    "            GradWeightClient(subset, lr, batch_size, nr_local_epochs)\n",
    "            for subset in client_subsets]\n",
    "    def run(self, nr_rounds: int) -> RunResult:\n",
    "        elapsed_time = 0.\n",
    "        run_result = RunResult(self.name, self.nr_clients, self.client_fraction, self.batch_size, self.nr_local_epochs, self.lr, self.seed)\n",
    "        server_weights = [param.data.clone() for param in self.model.parameters()]\n",
    "        for nr_round in tqdm(range(nr_rounds), desc=\"Rounds\", leave=False):\n",
    "            setup_start_time = perf_counter()\n",
    "            self.model.train()\n",
    "            weights = [x.detach().cpu().clone() for x in self.model.parameters()]\n",
    "            indices_chosen_clients = self.rng.choice(self.nr_clients, self.nr_clients_per_round, replace=False)\n",
    "            chosen_sum_nr_samples = sum(self.client_sample_counts[i] for i in indices_chosen_clients)\n",
    "            chosen_adjusted_weights: list[list[torch.Tensor]] = []\n",
    "            elapsed_time += perf_counter() - setup_start_time\n",
    "            update_time = 0.\n",
    "            for c_i in indices_chosen_clients:\n",
    "                update_start_time = perf_counter()\n",
    "                ind = int(c_i)\n",
    "                client_round_seed = self.seed + ind + 1 + nr_round * self.nr_clients_per_round\n",
    "                client_weights = self.clients[ind].update(weights, client_round_seed)\n",
    "                chosen_adjusted_weights.append([\n",
    "                    self.client_sample_counts[ind] / chosen_sum_nr_samples * tens\n",
    "                     for tens in client_weights])\n",
    "                update_time = max(update_time, perf_counter() - update_start_time)\n",
    "            elapsed_time += update_time\n",
    "            aggregate_start_time = perf_counter()\n",
    "            averaged_gradients: list[torch.Tensor] = [sum(x) for x in zip(*chosen_adjusted_weights)]\n",
    "            with torch.no_grad():\n",
    "                for server_weight, gradient in zip(server_weights, averaged_gradients):\n",
    "                    server_weight -= gradient.to(device=device)\n",
    "            with torch.no_grad():\n",
    "                for param, server_weight in zip(self.model.parameters(), server_weights):\n",
    "                    param.data[:] = server_weight.data\n",
    "            elapsed_time += perf_counter() - aggregate_start_time\n",
    "            run_result.wall_time.append(round(elapsed_time, 1))\n",
    "            run_result.message_count.append(2 * (nr_round + 1) * self.nr_clients_per_round)\n",
    "            run_result.test_accuracy.append(self.test())\n",
    "        return run_result"
   ]
  },
  {
   "cell_type": "markdown",
   "metadata": {},
   "source": [
    "Utilize the `AttackerGradientReversion` for the attack."
   ]
  },
  {
   "cell_type": "code",
   "execution_count": 4,
   "metadata": {},
   "outputs": [],
   "source": [
    "# malicious clients\n",
    "class AttackerGradientReversion(GradWeightClient):\n",
    "    def update(self, weights: list[torch.Tensor], seed: int) -> list[torch.Tensor]:\n",
    "        # Call the base implementation to perform the normal training and update process\n",
    "        honest_gradients = super().update(weights, seed)\n",
    "        \n",
    "        # Reverse the gradients: for a malicious client, negate the weights to simulate an attack\n",
    "        reversed_gradients = [-5*w for w in honest_gradients]\n",
    "\n",
    "        return reversed_gradients"
   ]
  },
  {
   "cell_type": "markdown",
   "metadata": {},
   "source": [
    "#### Case 1: There is no defense"
   ]
  },
  {
   "cell_type": "code",
   "execution_count": 76,
   "metadata": {},
   "outputs": [
    {
     "name": "stderr",
     "output_type": "stream",
     "text": [
      "                                                       \r"
     ]
    },
    {
     "data": {
      "text/html": [
       "<div>\n",
       "<style scoped>\n",
       "    .dataframe tbody tr th:only-of-type {\n",
       "        vertical-align: middle;\n",
       "    }\n",
       "\n",
       "    .dataframe tbody tr th {\n",
       "        vertical-align: top;\n",
       "    }\n",
       "\n",
       "    .dataframe thead th {\n",
       "        text-align: right;\n",
       "    }\n",
       "</style>\n",
       "<table border=\"1\" class=\"dataframe\">\n",
       "  <thead>\n",
       "    <tr style=\"text-align: right;\">\n",
       "      <th></th>\n",
       "      <th>Round</th>\n",
       "      <th>Algorithm</th>\n",
       "      <th>N</th>\n",
       "      <th>C</th>\n",
       "      <th>B</th>\n",
       "      <th>E</th>\n",
       "      <th>η</th>\n",
       "      <th>Seed</th>\n",
       "      <th>Wall time</th>\n",
       "      <th>Message count</th>\n",
       "      <th>Test accuracy</th>\n",
       "    </tr>\n",
       "  </thead>\n",
       "  <tbody>\n",
       "    <tr>\n",
       "      <th>0</th>\n",
       "      <td>1</td>\n",
       "      <td>FedAvg</td>\n",
       "      <td>100</td>\n",
       "      <td>0.2</td>\n",
       "      <td>200</td>\n",
       "      <td>2</td>\n",
       "      <td>0.02</td>\n",
       "      <td>42</td>\n",
       "      <td>0.1</td>\n",
       "      <td>40</td>\n",
       "      <td>16.32</td>\n",
       "    </tr>\n",
       "    <tr>\n",
       "      <th>1</th>\n",
       "      <td>2</td>\n",
       "      <td>FedAvg</td>\n",
       "      <td>100</td>\n",
       "      <td>0.2</td>\n",
       "      <td>200</td>\n",
       "      <td>2</td>\n",
       "      <td>0.02</td>\n",
       "      <td>42</td>\n",
       "      <td>0.3</td>\n",
       "      <td>80</td>\n",
       "      <td>10.28</td>\n",
       "    </tr>\n",
       "    <tr>\n",
       "      <th>2</th>\n",
       "      <td>3</td>\n",
       "      <td>FedAvg</td>\n",
       "      <td>100</td>\n",
       "      <td>0.2</td>\n",
       "      <td>200</td>\n",
       "      <td>2</td>\n",
       "      <td>0.02</td>\n",
       "      <td>42</td>\n",
       "      <td>0.4</td>\n",
       "      <td>120</td>\n",
       "      <td>10.28</td>\n",
       "    </tr>\n",
       "    <tr>\n",
       "      <th>3</th>\n",
       "      <td>4</td>\n",
       "      <td>FedAvg</td>\n",
       "      <td>100</td>\n",
       "      <td>0.2</td>\n",
       "      <td>200</td>\n",
       "      <td>2</td>\n",
       "      <td>0.02</td>\n",
       "      <td>42</td>\n",
       "      <td>0.5</td>\n",
       "      <td>160</td>\n",
       "      <td>13.60</td>\n",
       "    </tr>\n",
       "    <tr>\n",
       "      <th>4</th>\n",
       "      <td>5</td>\n",
       "      <td>FedAvg</td>\n",
       "      <td>100</td>\n",
       "      <td>0.2</td>\n",
       "      <td>200</td>\n",
       "      <td>2</td>\n",
       "      <td>0.02</td>\n",
       "      <td>42</td>\n",
       "      <td>0.6</td>\n",
       "      <td>200</td>\n",
       "      <td>20.66</td>\n",
       "    </tr>\n",
       "    <tr>\n",
       "      <th>5</th>\n",
       "      <td>6</td>\n",
       "      <td>FedAvg</td>\n",
       "      <td>100</td>\n",
       "      <td>0.2</td>\n",
       "      <td>200</td>\n",
       "      <td>2</td>\n",
       "      <td>0.02</td>\n",
       "      <td>42</td>\n",
       "      <td>0.7</td>\n",
       "      <td>240</td>\n",
       "      <td>10.28</td>\n",
       "    </tr>\n",
       "    <tr>\n",
       "      <th>6</th>\n",
       "      <td>7</td>\n",
       "      <td>FedAvg</td>\n",
       "      <td>100</td>\n",
       "      <td>0.2</td>\n",
       "      <td>200</td>\n",
       "      <td>2</td>\n",
       "      <td>0.02</td>\n",
       "      <td>42</td>\n",
       "      <td>0.8</td>\n",
       "      <td>280</td>\n",
       "      <td>10.28</td>\n",
       "    </tr>\n",
       "    <tr>\n",
       "      <th>7</th>\n",
       "      <td>8</td>\n",
       "      <td>FedAvg</td>\n",
       "      <td>100</td>\n",
       "      <td>0.2</td>\n",
       "      <td>200</td>\n",
       "      <td>2</td>\n",
       "      <td>0.02</td>\n",
       "      <td>42</td>\n",
       "      <td>0.9</td>\n",
       "      <td>320</td>\n",
       "      <td>10.28</td>\n",
       "    </tr>\n",
       "    <tr>\n",
       "      <th>8</th>\n",
       "      <td>9</td>\n",
       "      <td>FedAvg</td>\n",
       "      <td>100</td>\n",
       "      <td>0.2</td>\n",
       "      <td>200</td>\n",
       "      <td>2</td>\n",
       "      <td>0.02</td>\n",
       "      <td>42</td>\n",
       "      <td>1.0</td>\n",
       "      <td>360</td>\n",
       "      <td>10.28</td>\n",
       "    </tr>\n",
       "    <tr>\n",
       "      <th>9</th>\n",
       "      <td>10</td>\n",
       "      <td>FedAvg</td>\n",
       "      <td>100</td>\n",
       "      <td>0.2</td>\n",
       "      <td>200</td>\n",
       "      <td>2</td>\n",
       "      <td>0.02</td>\n",
       "      <td>42</td>\n",
       "      <td>1.1</td>\n",
       "      <td>400</td>\n",
       "      <td>10.28</td>\n",
       "    </tr>\n",
       "  </tbody>\n",
       "</table>\n",
       "</div>"
      ],
      "text/plain": [
       "   Round Algorithm    N    C    B  E     η  Seed  Wall time  Message count  \\\n",
       "0      1    FedAvg  100  0.2  200  2  0.02    42        0.1             40   \n",
       "1      2    FedAvg  100  0.2  200  2  0.02    42        0.3             80   \n",
       "2      3    FedAvg  100  0.2  200  2  0.02    42        0.4            120   \n",
       "3      4    FedAvg  100  0.2  200  2  0.02    42        0.5            160   \n",
       "4      5    FedAvg  100  0.2  200  2  0.02    42        0.6            200   \n",
       "5      6    FedAvg  100  0.2  200  2  0.02    42        0.7            240   \n",
       "6      7    FedAvg  100  0.2  200  2  0.02    42        0.8            280   \n",
       "7      8    FedAvg  100  0.2  200  2  0.02    42        0.9            320   \n",
       "8      9    FedAvg  100  0.2  200  2  0.02    42        1.0            360   \n",
       "9     10    FedAvg  100  0.2  200  2  0.02    42        1.1            400   \n",
       "\n",
       "   Test accuracy  \n",
       "0          16.32  \n",
       "1          10.28  \n",
       "2          10.28  \n",
       "3          13.60  \n",
       "4          20.66  \n",
       "5          10.28  \n",
       "6          10.28  \n",
       "7          10.28  \n",
       "8          10.28  \n",
       "9          10.28  "
      ]
     },
     "execution_count": 76,
     "metadata": {},
     "output_type": "execute_result"
    }
   ],
   "source": [
    "for sample_split in sample_splits:\n",
    "    fedavg_server_reverse = FedAvgGradServer(0.02, 200, sample_split, 0.2, 2, 42)\n",
    "    clients = fedavg_server_reverse.clients\n",
    "    num_malicious = int(0.20 * len(clients))\n",
    "    malicious_indices = np.random.choice(len(clients), num_malicious, replace=False)\n",
    "    for idx in malicious_indices:\n",
    "        client_data = clients[idx].loader_train.dataset\n",
    "        lr = clients[idx].optimizer.param_groups[0]['lr']\n",
    "        batch_size = clients[idx].loader_train.batch_size\n",
    "        nr_epochs = clients[idx].nr_epochs\n",
    "        clients[idx] = AttackerGradientReversion(client_data, lr, batch_size, nr_epochs)\n",
    "    result_fedavg_reverse = fedavg_server_reverse.run(10)\n",
    "    fedavg_df_reverse = result_fedavg_reverse.as_df()\n",
    "    result.append(fedavg_df_reverse)\n",
    "fedavg_df_reverse"
   ]
  },
  {
   "cell_type": "markdown",
   "metadata": {},
   "source": [
    "#### Case 2: The defenses are `krum`"
   ]
  },
  {
   "cell_type": "code",
   "execution_count": 5,
   "metadata": {},
   "outputs": [],
   "source": [
    "def krum(clients_updates, n=20, m=4):\n",
    "    # Number of neighboring updates to consider\n",
    "    n_neighbors = n - m - 2\n",
    "    scores = []\n",
    "\n",
    "    # Calculate the score for each update\n",
    "    for i in range(len(clients_updates)):\n",
    "        distances = []\n",
    "        for j in range(len(clients_updates)):\n",
    "            if i != j:\n",
    "                # Compute squared l2 distance between updates\n",
    "                distance = sum((param_i - param_j).pow(2).sum()\n",
    "                               for param_i, param_j in zip(clients_updates[i][1], clients_updates[j][1]))\n",
    "                distances.append(distance)\n",
    "\n",
    "        # Get the n_neighbors smallest distances\n",
    "        nearest_distances = sorted(distances)[:n_neighbors]\n",
    "        # Sum of these distances is the score of this client's update\n",
    "        scores.append(sum(nearest_distances))\n",
    "\n",
    "    # Select the index with the smallest score\n",
    "    selected_index = scores.index(min(scores))\n",
    "    return [selected_index]\n",
    "    \n",
    "class FedAvgServerDefense(FedAvgGradServer):\n",
    "    def __init__(self, lr: float, batch_size: int, client_subsets: list, client_fraction: float, nr_local_epochs: int, seed: int, defense=None):\n",
    "        super().__init__(lr, batch_size, client_subsets, client_fraction, nr_local_epochs, seed)\n",
    "        self.defense_method = defense\n",
    "\n",
    "    def run(self, nr_rounds: int) -> RunResult:\n",
    "        # The beginning of the method remains unchanged\n",
    "        elapsed_time = 0.\n",
    "        run_result = RunResult(self.name, self.nr_clients, self.client_fraction, self.batch_size, self.nr_local_epochs, self.lr, self.seed)\n",
    "        \n",
    "        # Initial server weights\n",
    "        server_weights = [param.data.clone() for param in self.model.parameters()]\n",
    "        for nr_round in tqdm(range(nr_rounds), desc=\"Rounds\", leave=False):\n",
    "            setup_start_time = perf_counter()\n",
    "            self.model.train()\n",
    "            weights = [x.detach().cpu().clone() for x in self.model.parameters()]\n",
    "            indices_chosen_clients = self.rng.choice(self.nr_clients, self.nr_clients_per_round, replace=False)\n",
    "            chosen_sum_nr_samples = sum(self.client_sample_counts[i] for i in indices_chosen_clients)\n",
    "            chosen_adjusted_weights: list[list[torch.Tensor]] = []\n",
    "            elapsed_time += perf_counter() - setup_start_time\n",
    "            update_time = 0.\n",
    "            \n",
    "            client_updates = []  # Store (client_index, updates) tuples\n",
    "            for c_i in indices_chosen_clients:\n",
    "                update_start_time = perf_counter()\n",
    "                ind = int(c_i)\n",
    "                client_round_seed = self.seed + ind + 1 + nr_round * self.nr_clients_per_round\n",
    "                client_weights = self.clients[ind].update(weights, client_round_seed)\n",
    "                client_updates.append((ind, client_weights))\n",
    "                update_time = max(update_time, perf_counter() - update_start_time)\n",
    "            if self.defense_method:\n",
    "                selected_indices = self.defense_method(client_updates)\n",
    "            else:\n",
    "                selected_indices = range(len(client_updates))  # Use all updates if no defense is specified\n",
    "            print(f'The following indices are selected in the training {np.sort(indices_chosen_clients[selected_indices])}')\n",
    "            chosen_sum_nr_samples = sum(self.client_sample_counts[i] for i in indices_chosen_clients[selected_indices])\n",
    "            chosen_adjusted_weights = [\n",
    "                [self.client_sample_counts[indices_chosen_clients[ind]] / chosen_sum_nr_samples * tens for tens in client_updates[ind][1]]\n",
    "                for ind in selected_indices\n",
    "            ]\n",
    "            # Aggregation logic remains the same from this point onwards\n",
    "            # Note that chosen_adjusted_weights now only contains updates from clients selected by multi_krum\n",
    "            elapsed_time += update_time\n",
    "            aggregate_start_time = perf_counter()\n",
    "            averaged_gradients: list[torch.Tensor] = [sum(x) for x in zip(*chosen_adjusted_weights)]\n",
    "            \n",
    "            # Update server model with averaged gradients\n",
    "            with torch.no_grad():\n",
    "                for server_weight, gradient in zip(server_weights, averaged_gradients):\n",
    "                    server_weight -= gradient.to(device=device)  # Assume learning rate is absorbed in gradient\n",
    "            \n",
    "            # Distribute updated weights to clients\n",
    "            with torch.no_grad():\n",
    "                for param, server_weight in zip(self.model.parameters(), server_weights):\n",
    "                    param.data[:] = server_weight.data\n",
    "\n",
    "            \n",
    "            elapsed_time += perf_counter() - aggregate_start_time\n",
    "            run_result.wall_time.append(round(elapsed_time, 1))\n",
    "            run_result.message_count.append(2 * (nr_round + 1) * self.nr_clients_per_round)\n",
    "            run_result.test_accuracy.append(self.test())\n",
    "\n",
    "        return run_result"
   ]
  },
  {
   "cell_type": "code",
   "execution_count": 78,
   "metadata": {},
   "outputs": [
    {
     "name": "stdout",
     "output_type": "stream",
     "text": [
      "the following is the malicious indices: [ 3  5 22 28 29 35 39 47 48 52 53 56 62 80 83 85 89 91 94 96]\n"
     ]
    },
    {
     "name": "stderr",
     "output_type": "stream",
     "text": [
      "Rounds:   0%|          | 0/10 [00:00<?, ?it/s]"
     ]
    },
    {
     "name": "stdout",
     "output_type": "stream",
     "text": [
      "The following indices are selected in the training [12]\n"
     ]
    },
    {
     "name": "stderr",
     "output_type": "stream",
     "text": [
      "Rounds:  10%|█         | 1/10 [00:02<00:19,  2.18s/it]"
     ]
    },
    {
     "name": "stdout",
     "output_type": "stream",
     "text": [
      "The following indices are selected in the training [15]\n"
     ]
    },
    {
     "name": "stderr",
     "output_type": "stream",
     "text": [
      "Rounds:  20%|██        | 2/10 [00:04<00:17,  2.17s/it]"
     ]
    },
    {
     "name": "stdout",
     "output_type": "stream",
     "text": [
      "The following indices are selected in the training [13]\n"
     ]
    },
    {
     "name": "stderr",
     "output_type": "stream",
     "text": [
      "Rounds:  30%|███       | 3/10 [00:06<00:15,  2.19s/it]"
     ]
    },
    {
     "name": "stdout",
     "output_type": "stream",
     "text": [
      "The following indices are selected in the training [40]\n"
     ]
    },
    {
     "name": "stderr",
     "output_type": "stream",
     "text": [
      "Rounds:  40%|████      | 4/10 [00:08<00:13,  2.20s/it]"
     ]
    },
    {
     "name": "stdout",
     "output_type": "stream",
     "text": [
      "The following indices are selected in the training [41]\n"
     ]
    },
    {
     "name": "stderr",
     "output_type": "stream",
     "text": [
      "Rounds:  50%|█████     | 5/10 [00:10<00:10,  2.19s/it]"
     ]
    },
    {
     "name": "stdout",
     "output_type": "stream",
     "text": [
      "The following indices are selected in the training [69]\n"
     ]
    },
    {
     "name": "stderr",
     "output_type": "stream",
     "text": [
      "Rounds:  60%|██████    | 6/10 [00:13<00:08,  2.22s/it]"
     ]
    },
    {
     "name": "stdout",
     "output_type": "stream",
     "text": [
      "The following indices are selected in the training [32]\n"
     ]
    },
    {
     "name": "stderr",
     "output_type": "stream",
     "text": [
      "Rounds:  70%|███████   | 7/10 [00:15<00:06,  2.21s/it]"
     ]
    },
    {
     "name": "stdout",
     "output_type": "stream",
     "text": [
      "The following indices are selected in the training [40]\n"
     ]
    },
    {
     "name": "stderr",
     "output_type": "stream",
     "text": [
      "Rounds:  80%|████████  | 8/10 [00:17<00:04,  2.20s/it]"
     ]
    },
    {
     "name": "stdout",
     "output_type": "stream",
     "text": [
      "The following indices are selected in the training [21]\n"
     ]
    },
    {
     "name": "stderr",
     "output_type": "stream",
     "text": [
      "Rounds:  90%|█████████ | 9/10 [00:19<00:02,  2.21s/it]"
     ]
    },
    {
     "name": "stdout",
     "output_type": "stream",
     "text": [
      "The following indices are selected in the training [13]\n"
     ]
    },
    {
     "name": "stderr",
     "output_type": "stream",
     "text": [
      "                                                       \r"
     ]
    },
    {
     "name": "stdout",
     "output_type": "stream",
     "text": [
      "the following is the malicious indices: [ 0  8  9 11 12 13 21 25 27 31 36 39 41 48 51 67 71 84 87 90]\n"
     ]
    },
    {
     "name": "stderr",
     "output_type": "stream",
     "text": [
      "Rounds:   0%|          | 0/10 [00:00<?, ?it/s]"
     ]
    },
    {
     "name": "stdout",
     "output_type": "stream",
     "text": [
      "The following indices are selected in the training [49]\n"
     ]
    },
    {
     "name": "stderr",
     "output_type": "stream",
     "text": [
      "Rounds:  10%|█         | 1/10 [00:02<00:19,  2.22s/it]"
     ]
    },
    {
     "name": "stdout",
     "output_type": "stream",
     "text": [
      "The following indices are selected in the training [62]\n"
     ]
    },
    {
     "name": "stderr",
     "output_type": "stream",
     "text": [
      "Rounds:  20%|██        | 2/10 [00:04<00:18,  2.27s/it]"
     ]
    },
    {
     "name": "stdout",
     "output_type": "stream",
     "text": [
      "The following indices are selected in the training [45]\n"
     ]
    },
    {
     "name": "stderr",
     "output_type": "stream",
     "text": [
      "Rounds:  30%|███       | 3/10 [00:06<00:15,  2.26s/it]"
     ]
    },
    {
     "name": "stdout",
     "output_type": "stream",
     "text": [
      "The following indices are selected in the training [7]\n"
     ]
    },
    {
     "name": "stderr",
     "output_type": "stream",
     "text": [
      "Rounds:  40%|████      | 4/10 [00:08<00:13,  2.23s/it]"
     ]
    },
    {
     "name": "stdout",
     "output_type": "stream",
     "text": [
      "The following indices are selected in the training [73]\n"
     ]
    },
    {
     "name": "stderr",
     "output_type": "stream",
     "text": [
      "Rounds:  50%|█████     | 5/10 [00:11<00:11,  2.24s/it]"
     ]
    },
    {
     "name": "stdout",
     "output_type": "stream",
     "text": [
      "The following indices are selected in the training [73]\n"
     ]
    },
    {
     "name": "stderr",
     "output_type": "stream",
     "text": [
      "Rounds:  60%|██████    | 6/10 [00:13<00:08,  2.23s/it]"
     ]
    },
    {
     "name": "stdout",
     "output_type": "stream",
     "text": [
      "The following indices are selected in the training [3]\n"
     ]
    },
    {
     "name": "stderr",
     "output_type": "stream",
     "text": [
      "Rounds:  70%|███████   | 7/10 [00:15<00:06,  2.22s/it]"
     ]
    },
    {
     "name": "stdout",
     "output_type": "stream",
     "text": [
      "The following indices are selected in the training [79]\n"
     ]
    },
    {
     "name": "stderr",
     "output_type": "stream",
     "text": [
      "Rounds:  80%|████████  | 8/10 [00:17<00:04,  2.21s/it]"
     ]
    },
    {
     "name": "stdout",
     "output_type": "stream",
     "text": [
      "The following indices are selected in the training [85]\n"
     ]
    },
    {
     "name": "stderr",
     "output_type": "stream",
     "text": [
      "Rounds:  90%|█████████ | 9/10 [00:19<00:02,  2.20s/it]"
     ]
    },
    {
     "name": "stdout",
     "output_type": "stream",
     "text": [
      "The following indices are selected in the training [45]\n"
     ]
    },
    {
     "name": "stderr",
     "output_type": "stream",
     "text": [
      "                                                       \r"
     ]
    },
    {
     "data": {
      "text/html": [
       "<div>\n",
       "<style scoped>\n",
       "    .dataframe tbody tr th:only-of-type {\n",
       "        vertical-align: middle;\n",
       "    }\n",
       "\n",
       "    .dataframe tbody tr th {\n",
       "        vertical-align: top;\n",
       "    }\n",
       "\n",
       "    .dataframe thead th {\n",
       "        text-align: right;\n",
       "    }\n",
       "</style>\n",
       "<table border=\"1\" class=\"dataframe\">\n",
       "  <thead>\n",
       "    <tr style=\"text-align: right;\">\n",
       "      <th></th>\n",
       "      <th>Round</th>\n",
       "      <th>Algorithm</th>\n",
       "      <th>N</th>\n",
       "      <th>C</th>\n",
       "      <th>B</th>\n",
       "      <th>E</th>\n",
       "      <th>η</th>\n",
       "      <th>Seed</th>\n",
       "      <th>Wall time</th>\n",
       "      <th>Message count</th>\n",
       "      <th>Test accuracy</th>\n",
       "    </tr>\n",
       "  </thead>\n",
       "  <tbody>\n",
       "    <tr>\n",
       "      <th>0</th>\n",
       "      <td>1</td>\n",
       "      <td>FedAvg</td>\n",
       "      <td>100</td>\n",
       "      <td>0.2</td>\n",
       "      <td>200</td>\n",
       "      <td>2</td>\n",
       "      <td>0.02</td>\n",
       "      <td>42</td>\n",
       "      <td>0.1</td>\n",
       "      <td>40</td>\n",
       "      <td>17.19</td>\n",
       "    </tr>\n",
       "    <tr>\n",
       "      <th>1</th>\n",
       "      <td>2</td>\n",
       "      <td>FedAvg</td>\n",
       "      <td>100</td>\n",
       "      <td>0.2</td>\n",
       "      <td>200</td>\n",
       "      <td>2</td>\n",
       "      <td>0.02</td>\n",
       "      <td>42</td>\n",
       "      <td>0.2</td>\n",
       "      <td>80</td>\n",
       "      <td>19.01</td>\n",
       "    </tr>\n",
       "    <tr>\n",
       "      <th>2</th>\n",
       "      <td>3</td>\n",
       "      <td>FedAvg</td>\n",
       "      <td>100</td>\n",
       "      <td>0.2</td>\n",
       "      <td>200</td>\n",
       "      <td>2</td>\n",
       "      <td>0.02</td>\n",
       "      <td>42</td>\n",
       "      <td>0.3</td>\n",
       "      <td>120</td>\n",
       "      <td>10.40</td>\n",
       "    </tr>\n",
       "    <tr>\n",
       "      <th>3</th>\n",
       "      <td>4</td>\n",
       "      <td>FedAvg</td>\n",
       "      <td>100</td>\n",
       "      <td>0.2</td>\n",
       "      <td>200</td>\n",
       "      <td>2</td>\n",
       "      <td>0.02</td>\n",
       "      <td>42</td>\n",
       "      <td>0.4</td>\n",
       "      <td>160</td>\n",
       "      <td>11.86</td>\n",
       "    </tr>\n",
       "    <tr>\n",
       "      <th>4</th>\n",
       "      <td>5</td>\n",
       "      <td>FedAvg</td>\n",
       "      <td>100</td>\n",
       "      <td>0.2</td>\n",
       "      <td>200</td>\n",
       "      <td>2</td>\n",
       "      <td>0.02</td>\n",
       "      <td>42</td>\n",
       "      <td>0.5</td>\n",
       "      <td>200</td>\n",
       "      <td>17.95</td>\n",
       "    </tr>\n",
       "    <tr>\n",
       "      <th>5</th>\n",
       "      <td>6</td>\n",
       "      <td>FedAvg</td>\n",
       "      <td>100</td>\n",
       "      <td>0.2</td>\n",
       "      <td>200</td>\n",
       "      <td>2</td>\n",
       "      <td>0.02</td>\n",
       "      <td>42</td>\n",
       "      <td>0.6</td>\n",
       "      <td>240</td>\n",
       "      <td>20.34</td>\n",
       "    </tr>\n",
       "    <tr>\n",
       "      <th>6</th>\n",
       "      <td>7</td>\n",
       "      <td>FedAvg</td>\n",
       "      <td>100</td>\n",
       "      <td>0.2</td>\n",
       "      <td>200</td>\n",
       "      <td>2</td>\n",
       "      <td>0.02</td>\n",
       "      <td>42</td>\n",
       "      <td>0.7</td>\n",
       "      <td>280</td>\n",
       "      <td>12.89</td>\n",
       "    </tr>\n",
       "    <tr>\n",
       "      <th>7</th>\n",
       "      <td>8</td>\n",
       "      <td>FedAvg</td>\n",
       "      <td>100</td>\n",
       "      <td>0.2</td>\n",
       "      <td>200</td>\n",
       "      <td>2</td>\n",
       "      <td>0.02</td>\n",
       "      <td>42</td>\n",
       "      <td>0.8</td>\n",
       "      <td>320</td>\n",
       "      <td>18.63</td>\n",
       "    </tr>\n",
       "    <tr>\n",
       "      <th>8</th>\n",
       "      <td>9</td>\n",
       "      <td>FedAvg</td>\n",
       "      <td>100</td>\n",
       "      <td>0.2</td>\n",
       "      <td>200</td>\n",
       "      <td>2</td>\n",
       "      <td>0.02</td>\n",
       "      <td>42</td>\n",
       "      <td>0.9</td>\n",
       "      <td>360</td>\n",
       "      <td>19.94</td>\n",
       "    </tr>\n",
       "    <tr>\n",
       "      <th>9</th>\n",
       "      <td>10</td>\n",
       "      <td>FedAvg</td>\n",
       "      <td>100</td>\n",
       "      <td>0.2</td>\n",
       "      <td>200</td>\n",
       "      <td>2</td>\n",
       "      <td>0.02</td>\n",
       "      <td>42</td>\n",
       "      <td>0.9</td>\n",
       "      <td>400</td>\n",
       "      <td>19.16</td>\n",
       "    </tr>\n",
       "  </tbody>\n",
       "</table>\n",
       "</div>"
      ],
      "text/plain": [
       "   Round Algorithm    N    C    B  E     η  Seed  Wall time  Message count  \\\n",
       "0      1    FedAvg  100  0.2  200  2  0.02    42        0.1             40   \n",
       "1      2    FedAvg  100  0.2  200  2  0.02    42        0.2             80   \n",
       "2      3    FedAvg  100  0.2  200  2  0.02    42        0.3            120   \n",
       "3      4    FedAvg  100  0.2  200  2  0.02    42        0.4            160   \n",
       "4      5    FedAvg  100  0.2  200  2  0.02    42        0.5            200   \n",
       "5      6    FedAvg  100  0.2  200  2  0.02    42        0.6            240   \n",
       "6      7    FedAvg  100  0.2  200  2  0.02    42        0.7            280   \n",
       "7      8    FedAvg  100  0.2  200  2  0.02    42        0.8            320   \n",
       "8      9    FedAvg  100  0.2  200  2  0.02    42        0.9            360   \n",
       "9     10    FedAvg  100  0.2  200  2  0.02    42        0.9            400   \n",
       "\n",
       "   Test accuracy  \n",
       "0          17.19  \n",
       "1          19.01  \n",
       "2          10.40  \n",
       "3          11.86  \n",
       "4          17.95  \n",
       "5          20.34  \n",
       "6          12.89  \n",
       "7          18.63  \n",
       "8          19.94  \n",
       "9          19.16  "
      ]
     },
     "execution_count": 78,
     "metadata": {},
     "output_type": "execute_result"
    }
   ],
   "source": [
    "for sample_split in sample_splits:\n",
    "    fedavg_server = FedAvgServerDefense(0.02, 200, sample_split, 0.2, 2, 42, defense=krum)\n",
    "    clients = fedavg_server.clients\n",
    "    num_malicious = int(0.20 * len(clients))\n",
    "    malicious_indices = np.random.choice(len(clients), num_malicious, replace=False)\n",
    "    print(f'the following is the malicious indices: {np.sort(malicious_indices)}')\n",
    "    for idx in malicious_indices:\n",
    "        client_data = clients[idx].loader_train.dataset\n",
    "        lr = clients[idx].optimizer.param_groups[0]['lr']\n",
    "        batch_size = clients[idx].loader_train.batch_size\n",
    "        nr_epochs = clients[idx].nr_epochs\n",
    "        clients[idx] = AttackerGradientReversion(client_data, lr, batch_size, nr_epochs)\n",
    "    result_fedavg_krum = fedavg_server.run(10)\n",
    "    fedavg_df_krum = result_fedavg_krum.as_df()\n",
    "    result.append(fedavg_df_krum)\n",
    "fedavg_df_krum"
   ]
  },
  {
   "cell_type": "markdown",
   "metadata": {},
   "source": [
    "#### Case 3: The defenses are `multi_krum`"
   ]
  },
  {
   "cell_type": "code",
   "execution_count": 6,
   "metadata": {},
   "outputs": [],
   "source": [
    "def multi_krum(clients_updates, k=14, n=20, m=5):\n",
    "    selected_indices = []\n",
    "    remaining_updates = clients_updates[:]\n",
    "\n",
    "    for i in range(k):\n",
    "        # Apply Krum to the remaining updates and get the index of the best gradient\n",
    "        selected_index = krum(remaining_updates,n-i,m)[0]\n",
    "        \n",
    "        # Map selected index from remaining_updates back to the original clients_updates\n",
    "        original_index = clients_updates.index(remaining_updates[selected_index])\n",
    "        selected_indices.append(original_index)\n",
    "        \n",
    "        # Remove the selected update from remaining_updates\n",
    "        remaining_updates.pop(selected_index)\n",
    "\n",
    "    return selected_indices"
   ]
  },
  {
   "cell_type": "code",
   "execution_count": 80,
   "metadata": {},
   "outputs": [
    {
     "name": "stdout",
     "output_type": "stream",
     "text": [
      "The following is the malicious indices: [ 5 12 13 22 32 33 39 47 48 59 68 72 73 75 84 86 93 95 96 98]\n"
     ]
    },
    {
     "name": "stderr",
     "output_type": "stream",
     "text": [
      "Rounds:   0%|          | 0/10 [00:00<?, ?it/s]"
     ]
    },
    {
     "name": "stdout",
     "output_type": "stream",
     "text": [
      "The following indices are selected in the training [ 7  8 12 17 45 49 54 61 63 71 83 84 89 94]\n"
     ]
    },
    {
     "name": "stderr",
     "output_type": "stream",
     "text": [
      "Rounds:  10%|█         | 1/10 [00:03<00:27,  3.01s/it]"
     ]
    },
    {
     "name": "stdout",
     "output_type": "stream",
     "text": [
      "The following indices are selected in the training [ 4  5 15 18 30 34 44 51 53 58 61 62 69 70]\n"
     ]
    },
    {
     "name": "stderr",
     "output_type": "stream",
     "text": [
      "Rounds:  20%|██        | 2/10 [00:05<00:23,  2.92s/it]"
     ]
    },
    {
     "name": "stdout",
     "output_type": "stream",
     "text": [
      "The following indices are selected in the training [ 8 28 36 37 40 45 54 61 69 71 76 79 87 97]\n"
     ]
    },
    {
     "name": "stderr",
     "output_type": "stream",
     "text": [
      "Rounds:  30%|███       | 3/10 [00:08<00:20,  2.91s/it]"
     ]
    },
    {
     "name": "stdout",
     "output_type": "stream",
     "text": [
      "The following indices are selected in the training [11 20 30 36 40 50 52 53 54 56 60 69 77 85]\n"
     ]
    },
    {
     "name": "stderr",
     "output_type": "stream",
     "text": [
      "Rounds:  40%|████      | 4/10 [00:11<00:17,  2.88s/it]"
     ]
    },
    {
     "name": "stdout",
     "output_type": "stream",
     "text": [
      "The following indices are selected in the training [ 2 10 15 29 31 35 37 41 46 57 65 70 74 87]\n"
     ]
    },
    {
     "name": "stderr",
     "output_type": "stream",
     "text": [
      "Rounds:  50%|█████     | 5/10 [00:14<00:14,  2.92s/it]"
     ]
    },
    {
     "name": "stdout",
     "output_type": "stream",
     "text": [
      "The following indices are selected in the training [ 7 25 28 41 43 62 69 70 77 79 81 83 93 99]\n"
     ]
    },
    {
     "name": "stderr",
     "output_type": "stream",
     "text": [
      "Rounds:  60%|██████    | 6/10 [00:17<00:11,  2.92s/it]"
     ]
    },
    {
     "name": "stdout",
     "output_type": "stream",
     "text": [
      "The following indices are selected in the training [ 3  7  8 17 26 36 51 53 55 57 58 70 74 89]\n"
     ]
    },
    {
     "name": "stderr",
     "output_type": "stream",
     "text": [
      "Rounds:  70%|███████   | 7/10 [00:20<00:08,  2.94s/it]"
     ]
    },
    {
     "name": "stdout",
     "output_type": "stream",
     "text": [
      "The following indices are selected in the training [ 5  7 15 24 26 34 40 43 52 54 66 77 79 87]\n"
     ]
    },
    {
     "name": "stderr",
     "output_type": "stream",
     "text": [
      "Rounds:  80%|████████  | 8/10 [00:23<00:05,  2.92s/it]"
     ]
    },
    {
     "name": "stdout",
     "output_type": "stream",
     "text": [
      "The following indices are selected in the training [ 3 13 20 21 23 28 37 55 62 81 85 89 90 92]\n"
     ]
    },
    {
     "name": "stderr",
     "output_type": "stream",
     "text": [
      "Rounds:  90%|█████████ | 9/10 [00:26<00:02,  2.90s/it]"
     ]
    },
    {
     "name": "stdout",
     "output_type": "stream",
     "text": [
      "The following indices are selected in the training [ 3  8 10 20 30 36 45 49 66 76 77 81 90 98]\n"
     ]
    },
    {
     "name": "stderr",
     "output_type": "stream",
     "text": [
      "                                                       \r"
     ]
    },
    {
     "name": "stdout",
     "output_type": "stream",
     "text": [
      "The following is the malicious indices: [ 2  7 21 22 29 31 33 36 52 55 57 61 65 70 76 84 87 89 94 98]\n"
     ]
    },
    {
     "name": "stderr",
     "output_type": "stream",
     "text": [
      "Rounds:   0%|          | 0/10 [00:00<?, ?it/s]"
     ]
    },
    {
     "name": "stdout",
     "output_type": "stream",
     "text": [
      "The following indices are selected in the training [ 8 12 17 45 47 49 54 63 68 71 73 75 83 94]\n"
     ]
    },
    {
     "name": "stderr",
     "output_type": "stream",
     "text": [
      "Rounds:  10%|█         | 1/10 [00:02<00:25,  2.79s/it]"
     ]
    },
    {
     "name": "stdout",
     "output_type": "stream",
     "text": [
      "The following indices are selected in the training [ 5 13 18 34 39 44 51 53 58 61 62 69 74 79]\n"
     ]
    },
    {
     "name": "stderr",
     "output_type": "stream",
     "text": [
      "Rounds:  20%|██        | 2/10 [00:05<00:22,  2.82s/it]"
     ]
    },
    {
     "name": "stdout",
     "output_type": "stream",
     "text": [
      "The following indices are selected in the training [ 8 13 28 37 40 54 68 71 75 78 79 86 87 97]\n"
     ]
    },
    {
     "name": "stderr",
     "output_type": "stream",
     "text": [
      "Rounds:  30%|███       | 3/10 [00:08<00:19,  2.81s/it]"
     ]
    },
    {
     "name": "stdout",
     "output_type": "stream",
     "text": [
      "The following indices are selected in the training [ 7  8  9 11 20 30 50 53 54 56 59 60 75 77]\n"
     ]
    },
    {
     "name": "stderr",
     "output_type": "stream",
     "text": [
      "Rounds:  40%|████      | 4/10 [00:11<00:17,  2.85s/it]"
     ]
    },
    {
     "name": "stdout",
     "output_type": "stream",
     "text": [
      "The following indices are selected in the training [ 2  8 10 15 29 37 41 45 46 68 70 73 74 87]\n"
     ]
    },
    {
     "name": "stderr",
     "output_type": "stream",
     "text": [
      "Rounds:  50%|█████     | 5/10 [00:14<00:14,  2.85s/it]"
     ]
    },
    {
     "name": "stdout",
     "output_type": "stream",
     "text": [
      "The following indices are selected in the training [ 7  9 24 25 28 41 43 44 62 69 73 90 93 99]\n"
     ]
    },
    {
     "name": "stderr",
     "output_type": "stream",
     "text": [
      "Rounds:  60%|██████    | 6/10 [00:16<00:11,  2.81s/it]"
     ]
    },
    {
     "name": "stdout",
     "output_type": "stream",
     "text": [
      "The following indices are selected in the training [ 3 12 17 18 26 32 39 48 51 53 58 74 89 93]\n"
     ]
    },
    {
     "name": "stderr",
     "output_type": "stream",
     "text": [
      "Rounds:  70%|███████   | 7/10 [00:19<00:08,  2.81s/it]"
     ]
    },
    {
     "name": "stdout",
     "output_type": "stream",
     "text": [
      "The following indices are selected in the training [ 5 15 24 34 39 40 44 45 54 60 66 77 91 95]\n"
     ]
    },
    {
     "name": "stderr",
     "output_type": "stream",
     "text": [
      "Rounds:  80%|████████  | 8/10 [00:22<00:05,  2.80s/it]"
     ]
    },
    {
     "name": "stdout",
     "output_type": "stream",
     "text": [
      "The following indices are selected in the training [ 3  9 13 20 28 37 54 62 67 81 84 85 89 90]\n"
     ]
    },
    {
     "name": "stderr",
     "output_type": "stream",
     "text": [
      "Rounds:  90%|█████████ | 9/10 [00:25<00:02,  2.80s/it]"
     ]
    },
    {
     "name": "stdout",
     "output_type": "stream",
     "text": [
      "The following indices are selected in the training [ 2  3  8 10 13 20 24 45 49 66 77 81 90 98]\n"
     ]
    },
    {
     "name": "stderr",
     "output_type": "stream",
     "text": [
      "                                                       \r"
     ]
    },
    {
     "data": {
      "text/html": [
       "<div>\n",
       "<style scoped>\n",
       "    .dataframe tbody tr th:only-of-type {\n",
       "        vertical-align: middle;\n",
       "    }\n",
       "\n",
       "    .dataframe tbody tr th {\n",
       "        vertical-align: top;\n",
       "    }\n",
       "\n",
       "    .dataframe thead th {\n",
       "        text-align: right;\n",
       "    }\n",
       "</style>\n",
       "<table border=\"1\" class=\"dataframe\">\n",
       "  <thead>\n",
       "    <tr style=\"text-align: right;\">\n",
       "      <th></th>\n",
       "      <th>Round</th>\n",
       "      <th>Algorithm</th>\n",
       "      <th>N</th>\n",
       "      <th>C</th>\n",
       "      <th>B</th>\n",
       "      <th>E</th>\n",
       "      <th>η</th>\n",
       "      <th>Seed</th>\n",
       "      <th>Wall time</th>\n",
       "      <th>Message count</th>\n",
       "      <th>Test accuracy</th>\n",
       "    </tr>\n",
       "  </thead>\n",
       "  <tbody>\n",
       "    <tr>\n",
       "      <th>0</th>\n",
       "      <td>1</td>\n",
       "      <td>FedAvg</td>\n",
       "      <td>100</td>\n",
       "      <td>0.2</td>\n",
       "      <td>200</td>\n",
       "      <td>2</td>\n",
       "      <td>0.02</td>\n",
       "      <td>42</td>\n",
       "      <td>0.1</td>\n",
       "      <td>40</td>\n",
       "      <td>17.01</td>\n",
       "    </tr>\n",
       "    <tr>\n",
       "      <th>1</th>\n",
       "      <td>2</td>\n",
       "      <td>FedAvg</td>\n",
       "      <td>100</td>\n",
       "      <td>0.2</td>\n",
       "      <td>200</td>\n",
       "      <td>2</td>\n",
       "      <td>0.02</td>\n",
       "      <td>42</td>\n",
       "      <td>0.2</td>\n",
       "      <td>80</td>\n",
       "      <td>13.63</td>\n",
       "    </tr>\n",
       "    <tr>\n",
       "      <th>2</th>\n",
       "      <td>3</td>\n",
       "      <td>FedAvg</td>\n",
       "      <td>100</td>\n",
       "      <td>0.2</td>\n",
       "      <td>200</td>\n",
       "      <td>2</td>\n",
       "      <td>0.02</td>\n",
       "      <td>42</td>\n",
       "      <td>0.3</td>\n",
       "      <td>120</td>\n",
       "      <td>18.87</td>\n",
       "    </tr>\n",
       "    <tr>\n",
       "      <th>3</th>\n",
       "      <td>4</td>\n",
       "      <td>FedAvg</td>\n",
       "      <td>100</td>\n",
       "      <td>0.2</td>\n",
       "      <td>200</td>\n",
       "      <td>2</td>\n",
       "      <td>0.02</td>\n",
       "      <td>42</td>\n",
       "      <td>0.4</td>\n",
       "      <td>160</td>\n",
       "      <td>15.61</td>\n",
       "    </tr>\n",
       "    <tr>\n",
       "      <th>4</th>\n",
       "      <td>5</td>\n",
       "      <td>FedAvg</td>\n",
       "      <td>100</td>\n",
       "      <td>0.2</td>\n",
       "      <td>200</td>\n",
       "      <td>2</td>\n",
       "      <td>0.02</td>\n",
       "      <td>42</td>\n",
       "      <td>0.5</td>\n",
       "      <td>200</td>\n",
       "      <td>16.65</td>\n",
       "    </tr>\n",
       "    <tr>\n",
       "      <th>5</th>\n",
       "      <td>6</td>\n",
       "      <td>FedAvg</td>\n",
       "      <td>100</td>\n",
       "      <td>0.2</td>\n",
       "      <td>200</td>\n",
       "      <td>2</td>\n",
       "      <td>0.02</td>\n",
       "      <td>42</td>\n",
       "      <td>0.6</td>\n",
       "      <td>240</td>\n",
       "      <td>18.31</td>\n",
       "    </tr>\n",
       "    <tr>\n",
       "      <th>6</th>\n",
       "      <td>7</td>\n",
       "      <td>FedAvg</td>\n",
       "      <td>100</td>\n",
       "      <td>0.2</td>\n",
       "      <td>200</td>\n",
       "      <td>2</td>\n",
       "      <td>0.02</td>\n",
       "      <td>42</td>\n",
       "      <td>0.7</td>\n",
       "      <td>280</td>\n",
       "      <td>18.31</td>\n",
       "    </tr>\n",
       "    <tr>\n",
       "      <th>7</th>\n",
       "      <td>8</td>\n",
       "      <td>FedAvg</td>\n",
       "      <td>100</td>\n",
       "      <td>0.2</td>\n",
       "      <td>200</td>\n",
       "      <td>2</td>\n",
       "      <td>0.02</td>\n",
       "      <td>42</td>\n",
       "      <td>0.8</td>\n",
       "      <td>320</td>\n",
       "      <td>30.78</td>\n",
       "    </tr>\n",
       "    <tr>\n",
       "      <th>8</th>\n",
       "      <td>9</td>\n",
       "      <td>FedAvg</td>\n",
       "      <td>100</td>\n",
       "      <td>0.2</td>\n",
       "      <td>200</td>\n",
       "      <td>2</td>\n",
       "      <td>0.02</td>\n",
       "      <td>42</td>\n",
       "      <td>0.8</td>\n",
       "      <td>360</td>\n",
       "      <td>24.12</td>\n",
       "    </tr>\n",
       "    <tr>\n",
       "      <th>9</th>\n",
       "      <td>10</td>\n",
       "      <td>FedAvg</td>\n",
       "      <td>100</td>\n",
       "      <td>0.2</td>\n",
       "      <td>200</td>\n",
       "      <td>2</td>\n",
       "      <td>0.02</td>\n",
       "      <td>42</td>\n",
       "      <td>0.9</td>\n",
       "      <td>400</td>\n",
       "      <td>17.42</td>\n",
       "    </tr>\n",
       "  </tbody>\n",
       "</table>\n",
       "</div>"
      ],
      "text/plain": [
       "   Round Algorithm    N    C    B  E     η  Seed  Wall time  Message count  \\\n",
       "0      1    FedAvg  100  0.2  200  2  0.02    42        0.1             40   \n",
       "1      2    FedAvg  100  0.2  200  2  0.02    42        0.2             80   \n",
       "2      3    FedAvg  100  0.2  200  2  0.02    42        0.3            120   \n",
       "3      4    FedAvg  100  0.2  200  2  0.02    42        0.4            160   \n",
       "4      5    FedAvg  100  0.2  200  2  0.02    42        0.5            200   \n",
       "5      6    FedAvg  100  0.2  200  2  0.02    42        0.6            240   \n",
       "6      7    FedAvg  100  0.2  200  2  0.02    42        0.7            280   \n",
       "7      8    FedAvg  100  0.2  200  2  0.02    42        0.8            320   \n",
       "8      9    FedAvg  100  0.2  200  2  0.02    42        0.8            360   \n",
       "9     10    FedAvg  100  0.2  200  2  0.02    42        0.9            400   \n",
       "\n",
       "   Test accuracy  \n",
       "0          17.01  \n",
       "1          13.63  \n",
       "2          18.87  \n",
       "3          15.61  \n",
       "4          16.65  \n",
       "5          18.31  \n",
       "6          18.31  \n",
       "7          30.78  \n",
       "8          24.12  \n",
       "9          17.42  "
      ]
     },
     "execution_count": 80,
     "metadata": {},
     "output_type": "execute_result"
    }
   ],
   "source": [
    "for sample_split in sample_splits:\n",
    "    fedavg_server = FedAvgServerDefense(0.02, 200, sample_split, 0.2, 2, 42, defense=multi_krum)\n",
    "    clients = fedavg_server.clients\n",
    "    num_malicious = int(0.20 * len(clients))\n",
    "    malicious_indices = np.random.choice(len(clients), num_malicious, replace=False)\n",
    "    print(f'The following is the malicious indices: {np.sort(malicious_indices)}')\n",
    "    for idx in malicious_indices:\n",
    "        client_data = clients[idx].loader_train.dataset\n",
    "        lr = clients[idx].optimizer.param_groups[0]['lr']\n",
    "        batch_size = clients[idx].loader_train.batch_size\n",
    "        nr_epochs = clients[idx].nr_epochs\n",
    "        clients[idx] = AttackerGradientReversion(client_data, lr, batch_size, nr_epochs)\n",
    "    result_fedavg_multi_krum = fedavg_server.run(10)\n",
    "    fedavg_df_multi_krum = result_fedavg_multi_krum.as_df()\n",
    "    result.append(fedavg_df_multi_krum)\n",
    "fedavg_df_multi_krum"
   ]
  },
  {
   "cell_type": "markdown",
   "metadata": {},
   "source": [
    "#### Case 4: The defenses are `majority_sign`"
   ]
  },
  {
   "cell_type": "code",
   "execution_count": 7,
   "metadata": {},
   "outputs": [],
   "source": [
    "class FedAvgServerDefenseCoordinate(FedAvgGradServer):\n",
    "    def __init__(self, lr: float, batch_size: int, client_subsets: list, client_fraction: float, nr_local_epochs: int, seed: int, defense=None):\n",
    "        super().__init__(lr, batch_size, client_subsets, client_fraction, nr_local_epochs, seed)\n",
    "        self.defense_method = defense\n",
    "\n",
    "    def run(self, nr_rounds: int) -> RunResult:\n",
    "        # The beginning of the method remains unchanged\n",
    "        elapsed_time = 0.\n",
    "        run_result = RunResult(self.name, self.nr_clients, self.client_fraction, self.batch_size, self.nr_local_epochs, self.lr, self.seed)\n",
    "        \n",
    "        # Initial server weights\n",
    "        server_weights = [param.data.clone() for param in self.model.parameters()]\n",
    "        for nr_round in tqdm(range(nr_rounds), desc=\"Rounds\", leave=False):\n",
    "            setup_start_time = perf_counter()\n",
    "            self.model.train()\n",
    "            weights = [x.detach().cpu().clone() for x in self.model.parameters()]\n",
    "            indices_chosen_clients = self.rng.choice(self.nr_clients, self.nr_clients_per_round, replace=False)\n",
    "            chosen_sum_nr_samples = sum(self.client_sample_counts[i] for i in indices_chosen_clients)\n",
    "            chosen_adjusted_weights: list[list[torch.Tensor]] = []\n",
    "            elapsed_time += perf_counter() - setup_start_time\n",
    "            update_time = 0.\n",
    "            \n",
    "            client_updates = []  # Store (client_index, updates) tuples\n",
    "            for c_i in indices_chosen_clients:\n",
    "                update_start_time = perf_counter()\n",
    "                ind = int(c_i)\n",
    "                client_round_seed = self.seed + ind + 1 + nr_round * self.nr_clients_per_round\n",
    "                client_weights = self.clients[ind].update(weights, client_round_seed)\n",
    "                chosen_adjusted_weights.append([\n",
    "                    self.client_sample_counts[ind] / chosen_sum_nr_samples * tens\n",
    "                     for tens in client_weights])\n",
    "                update_time = max(update_time, perf_counter() - update_start_time)\n",
    "\n",
    "            elapsed_time += update_time\n",
    "            aggregate_start_time = perf_counter()\n",
    "            \n",
    "            if self.defense_method:\n",
    "                averaged_gradients = self.defense_method(chosen_adjusted_weights)\n",
    "            else:\n",
    "                averaged_gradients: list[torch.Tensor] = [sum(x) for x in zip(*chosen_adjusted_weights)]\n",
    "            \n",
    "            \n",
    "            # Update server model with averaged gradients\n",
    "            with torch.no_grad():\n",
    "                for server_weight, gradient in zip(server_weights, averaged_gradients):\n",
    "                    server_weight -= gradient.to(device=device)  # Assume learning rate is absorbed in gradient\n",
    "            \n",
    "            # Distribute updated weights to clients\n",
    "            with torch.no_grad():\n",
    "                for param, server_weight in zip(self.model.parameters(), server_weights):\n",
    "                    param.data[:] = server_weight.data\n",
    "\n",
    "            \n",
    "            elapsed_time += perf_counter() - aggregate_start_time\n",
    "            run_result.wall_time.append(round(elapsed_time, 1))\n",
    "            run_result.message_count.append(2 * (nr_round + 1) * self.nr_clients_per_round)\n",
    "            run_result.test_accuracy.append(self.test())\n",
    "\n",
    "        return run_result"
   ]
  },
  {
   "cell_type": "code",
   "execution_count": 8,
   "metadata": {},
   "outputs": [],
   "source": [
    "def majority_sign_filter(all_updates):\n",
    "    # 'all_updates' is a list of lists of torch.Tensor objects,\n",
    "    # where each inner list contains the gradients for all parameters from one client.\n",
    "    \n",
    "    # Step 1: Transpose the list to group gradients of the same parameter together\n",
    "    parameter_wise_updates = list(zip(*all_updates))\n",
    "    \n",
    "    # Step 2: Calculate sign and count for determining majority\n",
    "    all_signs = [torch.sign(torch.stack(parameter_group, dim=0)) for parameter_group in parameter_wise_updates]\n",
    "    \n",
    "    # Step 3: Determine the majority sign for each parameter coordinate\n",
    "    majority_signs = [torch.sign(torch.sum(signs, dim=0)) for signs in all_signs]\n",
    "    \n",
    "    # Step 4: Filter out gradients whose signs don't match the majority\n",
    "    filtered_updates = []\n",
    "    for idx, parameter_group in enumerate(parameter_wise_updates):\n",
    "        majority_sign = majority_signs[idx]\n",
    "        zeroed_gradients = []\n",
    "        \n",
    "        for gradient in parameter_group:\n",
    "            gradient_signs = torch.sign(gradient)\n",
    "            # Zero out gradients where the sign does not match the majority\n",
    "            gradient[gradient_signs != majority_sign] = 0\n",
    "            zeroed_gradients.append(gradient)\n",
    "        \n",
    "        # Step 5: Calculate the average of the filtered gradients\n",
    "        filtered_average = torch.mean(torch.stack(zeroed_gradients), dim=0)\n",
    "        filtered_updates.append(filtered_average*20)\n",
    "    \n",
    "    return filtered_updates"
   ]
  },
  {
   "cell_type": "code",
   "execution_count": 83,
   "metadata": {},
   "outputs": [
    {
     "name": "stdout",
     "output_type": "stream",
     "text": [
      "[ 3 98 30 17 84 80 34 10 59 54 38 68  0 96 66 73 24 23 83 64]\n"
     ]
    },
    {
     "name": "stderr",
     "output_type": "stream",
     "text": [
      "Rounds:   0%|          | 0/10 [00:00<?, ?it/s]"
     ]
    },
    {
     "name": "stderr",
     "output_type": "stream",
     "text": [
      "                                                       \r"
     ]
    },
    {
     "name": "stdout",
     "output_type": "stream",
     "text": [
      "[66 16 43  2 60 12 30 98 58 54 61 76 46 50 42 87  3 11 51 40]\n"
     ]
    },
    {
     "name": "stderr",
     "output_type": "stream",
     "text": [
      "                                                       \r"
     ]
    },
    {
     "data": {
      "text/html": [
       "<div>\n",
       "<style scoped>\n",
       "    .dataframe tbody tr th:only-of-type {\n",
       "        vertical-align: middle;\n",
       "    }\n",
       "\n",
       "    .dataframe tbody tr th {\n",
       "        vertical-align: top;\n",
       "    }\n",
       "\n",
       "    .dataframe thead th {\n",
       "        text-align: right;\n",
       "    }\n",
       "</style>\n",
       "<table border=\"1\" class=\"dataframe\">\n",
       "  <thead>\n",
       "    <tr style=\"text-align: right;\">\n",
       "      <th></th>\n",
       "      <th>Round</th>\n",
       "      <th>Algorithm</th>\n",
       "      <th>N</th>\n",
       "      <th>C</th>\n",
       "      <th>B</th>\n",
       "      <th>E</th>\n",
       "      <th>η</th>\n",
       "      <th>Seed</th>\n",
       "      <th>Wall time</th>\n",
       "      <th>Message count</th>\n",
       "      <th>Test accuracy</th>\n",
       "    </tr>\n",
       "  </thead>\n",
       "  <tbody>\n",
       "    <tr>\n",
       "      <th>0</th>\n",
       "      <td>1</td>\n",
       "      <td>FedAvg</td>\n",
       "      <td>100</td>\n",
       "      <td>0.2</td>\n",
       "      <td>200</td>\n",
       "      <td>2</td>\n",
       "      <td>0.02</td>\n",
       "      <td>42</td>\n",
       "      <td>0.1</td>\n",
       "      <td>40</td>\n",
       "      <td>16.48</td>\n",
       "    </tr>\n",
       "    <tr>\n",
       "      <th>1</th>\n",
       "      <td>2</td>\n",
       "      <td>FedAvg</td>\n",
       "      <td>100</td>\n",
       "      <td>0.2</td>\n",
       "      <td>200</td>\n",
       "      <td>2</td>\n",
       "      <td>0.02</td>\n",
       "      <td>42</td>\n",
       "      <td>0.3</td>\n",
       "      <td>80</td>\n",
       "      <td>22.16</td>\n",
       "    </tr>\n",
       "    <tr>\n",
       "      <th>2</th>\n",
       "      <td>3</td>\n",
       "      <td>FedAvg</td>\n",
       "      <td>100</td>\n",
       "      <td>0.2</td>\n",
       "      <td>200</td>\n",
       "      <td>2</td>\n",
       "      <td>0.02</td>\n",
       "      <td>42</td>\n",
       "      <td>0.4</td>\n",
       "      <td>120</td>\n",
       "      <td>10.29</td>\n",
       "    </tr>\n",
       "    <tr>\n",
       "      <th>3</th>\n",
       "      <td>4</td>\n",
       "      <td>FedAvg</td>\n",
       "      <td>100</td>\n",
       "      <td>0.2</td>\n",
       "      <td>200</td>\n",
       "      <td>2</td>\n",
       "      <td>0.02</td>\n",
       "      <td>42</td>\n",
       "      <td>0.6</td>\n",
       "      <td>160</td>\n",
       "      <td>10.09</td>\n",
       "    </tr>\n",
       "    <tr>\n",
       "      <th>4</th>\n",
       "      <td>5</td>\n",
       "      <td>FedAvg</td>\n",
       "      <td>100</td>\n",
       "      <td>0.2</td>\n",
       "      <td>200</td>\n",
       "      <td>2</td>\n",
       "      <td>0.02</td>\n",
       "      <td>42</td>\n",
       "      <td>0.7</td>\n",
       "      <td>200</td>\n",
       "      <td>11.43</td>\n",
       "    </tr>\n",
       "    <tr>\n",
       "      <th>5</th>\n",
       "      <td>6</td>\n",
       "      <td>FedAvg</td>\n",
       "      <td>100</td>\n",
       "      <td>0.2</td>\n",
       "      <td>200</td>\n",
       "      <td>2</td>\n",
       "      <td>0.02</td>\n",
       "      <td>42</td>\n",
       "      <td>0.9</td>\n",
       "      <td>240</td>\n",
       "      <td>18.76</td>\n",
       "    </tr>\n",
       "    <tr>\n",
       "      <th>6</th>\n",
       "      <td>7</td>\n",
       "      <td>FedAvg</td>\n",
       "      <td>100</td>\n",
       "      <td>0.2</td>\n",
       "      <td>200</td>\n",
       "      <td>2</td>\n",
       "      <td>0.02</td>\n",
       "      <td>42</td>\n",
       "      <td>1.0</td>\n",
       "      <td>280</td>\n",
       "      <td>27.09</td>\n",
       "    </tr>\n",
       "    <tr>\n",
       "      <th>7</th>\n",
       "      <td>8</td>\n",
       "      <td>FedAvg</td>\n",
       "      <td>100</td>\n",
       "      <td>0.2</td>\n",
       "      <td>200</td>\n",
       "      <td>2</td>\n",
       "      <td>0.02</td>\n",
       "      <td>42</td>\n",
       "      <td>1.1</td>\n",
       "      <td>320</td>\n",
       "      <td>19.04</td>\n",
       "    </tr>\n",
       "    <tr>\n",
       "      <th>8</th>\n",
       "      <td>9</td>\n",
       "      <td>FedAvg</td>\n",
       "      <td>100</td>\n",
       "      <td>0.2</td>\n",
       "      <td>200</td>\n",
       "      <td>2</td>\n",
       "      <td>0.02</td>\n",
       "      <td>42</td>\n",
       "      <td>1.3</td>\n",
       "      <td>360</td>\n",
       "      <td>32.49</td>\n",
       "    </tr>\n",
       "    <tr>\n",
       "      <th>9</th>\n",
       "      <td>10</td>\n",
       "      <td>FedAvg</td>\n",
       "      <td>100</td>\n",
       "      <td>0.2</td>\n",
       "      <td>200</td>\n",
       "      <td>2</td>\n",
       "      <td>0.02</td>\n",
       "      <td>42</td>\n",
       "      <td>1.4</td>\n",
       "      <td>400</td>\n",
       "      <td>22.94</td>\n",
       "    </tr>\n",
       "  </tbody>\n",
       "</table>\n",
       "</div>"
      ],
      "text/plain": [
       "   Round Algorithm    N    C    B  E     η  Seed  Wall time  Message count  \\\n",
       "0      1    FedAvg  100  0.2  200  2  0.02    42        0.1             40   \n",
       "1      2    FedAvg  100  0.2  200  2  0.02    42        0.3             80   \n",
       "2      3    FedAvg  100  0.2  200  2  0.02    42        0.4            120   \n",
       "3      4    FedAvg  100  0.2  200  2  0.02    42        0.6            160   \n",
       "4      5    FedAvg  100  0.2  200  2  0.02    42        0.7            200   \n",
       "5      6    FedAvg  100  0.2  200  2  0.02    42        0.9            240   \n",
       "6      7    FedAvg  100  0.2  200  2  0.02    42        1.0            280   \n",
       "7      8    FedAvg  100  0.2  200  2  0.02    42        1.1            320   \n",
       "8      9    FedAvg  100  0.2  200  2  0.02    42        1.3            360   \n",
       "9     10    FedAvg  100  0.2  200  2  0.02    42        1.4            400   \n",
       "\n",
       "   Test accuracy  \n",
       "0          16.48  \n",
       "1          22.16  \n",
       "2          10.29  \n",
       "3          10.09  \n",
       "4          11.43  \n",
       "5          18.76  \n",
       "6          27.09  \n",
       "7          19.04  \n",
       "8          32.49  \n",
       "9          22.94  "
      ]
     },
     "execution_count": 83,
     "metadata": {},
     "output_type": "execute_result"
    }
   ],
   "source": [
    "for sample_split in sample_splits:    \n",
    "    fedavg_server_backdoor = FedAvgServerDefenseCoordinate(0.02, 200, sample_split, 0.2, 2, 42, defense=majority_sign_filter)\n",
    "    clients = fedavg_server_backdoor.clients\n",
    "    # Number of clients to be made malicious with backdoor\n",
    "    num_malicious = int(0.2 * len(clients))  # For example, 20%\n",
    "    # Randomly select indices for the clients to undergo backdoor attack\n",
    "    malicious_indices = np.random.choice(len(clients), num_malicious, replace=False)\n",
    "    print(malicious_indices)\n",
    "    # Replace the selected clients with instances of AttackerGradientInversion\n",
    "    for idx in malicious_indices:\n",
    "        client_data = clients[idx].loader_train.dataset\n",
    "        lr = clients[idx].optimizer.param_groups[0]['lr']\n",
    "        batch_size = clients[idx].loader_train.batch_size\n",
    "        nr_epochs = clients[idx].nr_epochs\n",
    "        clients[idx] = AttackerGradientReversion(client_data, lr, batch_size, nr_epochs)\n",
    "\n",
    "    result_fedavg_backdoor = fedavg_server_backdoor.run(10)\n",
    "    fedavg_df_backdoor = result_fedavg_backdoor.as_df()\n",
    "    result.append(fedavg_df_backdoor)\n",
    "fedavg_df_backdoor"
   ]
  },
  {
   "cell_type": "markdown",
   "metadata": {},
   "source": [
    "### - _(1 point)_ Compile the results of these runs into one plot to visually compare the influence of each defense mechanism under non-i.i.d. conditions."
   ]
  },
  {
   "cell_type": "code",
   "execution_count": 86,
   "metadata": {},
   "outputs": [
    {
     "data": {
      "image/png": "[encoded data removed]",
      "text/plain": [
       "<Figure size 1000x600 with 1 Axes>"
      ]
     },
     "metadata": {},
     "output_type": "display_data"
    }
   ],
   "source": [
    "import pandas as pd\n",
    "import matplotlib.pyplot as plt\n",
    "\n",
    "test_accuracies = pd.DataFrame({\n",
    "    'iid - No Defense': result[0]['Test accuracy'],\n",
    "    'non-iid - No Defense': result[1]['Test accuracy'],\n",
    "\n",
    "    'iid - Krum': result[2]['Test accuracy'],\n",
    "    'non-iid - Krum': result[3]['Test accuracy'],\n",
    "\n",
    "    'iid - Multi-Krum': result[4]['Test accuracy'],\n",
    "    'non-iid - Multi-Krum': result[5]['Test accuracy'],\n",
    "\n",
    "    'iid - Majority-Sign': result[6]['Test accuracy'],\n",
    "    'non-iid - Majority-Sign': result[7]['Test accuracy'],\n",
    "})\n",
    "\n",
    "plt.figure(figsize=(10, 6))\n",
    "for column in test_accuracies.columns:\n",
    "    plt.plot(test_accuracies[column], label=column)\n",
    "\n",
    "plt.title('Test Accuracy Comparison')\n",
    "plt.xlabel('Rounds')\n",
    "plt.ylabel('Test Accuracy')\n",
    "plt.legend()\n",
    "plt.show()"
   ]
  },
  {
   "cell_type": "markdown",
   "metadata": {},
   "source": [
    "### - _(2 points)_ Discuss the differences (if any) between the results in i.i.d. and non-i.i.d. settings for each defense mechanism. "
   ]
  },
  {
   "cell_type": "markdown",
   "metadata": {},
   "source": [
    "> All three methods perform well in the iid case, but poorly in the non-iid case.\n",
    "> \n",
    "> Specifically analyzing the results, whether in the iid or non-iid case, the results when there is no defense mechanism are the worst, indicating that the defense mechanism is necessary.\n",
    "> \n",
    "> In the iid case, the performance of the three methods is very close; in the non-iid case multi_krum and majority_sign perform a > little bit better than krum, probably because krum only looks for one clustering center.\n",
    "> \n",
    "> This is because in the iid case, the distribution of the data on all clients is the same, and the distribution of the gradient > computed by the model is also similar. At this time, the poisonous gradient will be far away from this average distribution, and > it will be easily filtered out.\n",
    "> \n",
    "> But in the non-iid case, the distribution of the gradient calculated by the model is not the same. At this time it is difficult to distinguish between normal and poisonous gradients because it is hard for us to know the center of the clusters. Therefore all three methods are not very useful under non-iid."
   ]
  },
  {
   "cell_type": "markdown",
   "metadata": {},
   "source": [
    "## Question 2: Implementing Bulyan Defense (5 points)\n",
    "\n",
    "[Bulyan defense](https://arxiv.org/abs/1802.07927) combines aspects of `multi-krum` and `trimmed-mean` to protect against sophisticated attacks in federated environments. In this question, you will implement Bulyan by modifying and combining the existing code in the [lab-attacks.ipynb](https://github.com/lydiaYchen/DDL24Spring/blob/main/lab/lab-attacks.ipynb).\n",
    "\n",
    "### Scoring:\n",
    "- _(1 point)_ Modify the server-side code to integrate a two-step defense process where:\n",
    "  1. A client-wise defense like `multi-krum` filters out suspicious gradients based on their distance metrics.\n",
    "  2. A coordinate-wise defense like `trimmed-mean` calculates the mean across the remaining gradients after trimming the extremes.\n",
    "  \n",
    "- _(1 point)_ Successfully integrate these two defense mechanisms [`multi-krum`, `trimmed-mean`] to implement the Bulyan.\n",
    "- _(3 points)_ Evaluate the performance of your implemented Bulyan defense against three types of attacks: `AttackerGradientReversion`, `AttackerPartGradientReversion`, and `AttackerBackdoor`. Vary the defense hyperparameters to make your defense defend against these attacks while keeping the data distribution i.i.d. and the attacker's hyperparameters constant as per the template. Document the performance of your defense strategy against these attacks in your notebook."
   ]
  },
  {
   "cell_type": "markdown",
   "metadata": {},
   "source": [
    "### - _(1 point)_ Modify the server-side code to integrate a two-step defense process where:\n",
    "  1. A client-wise defense like `multi-krum` filters out suspicious gradients based on their distance metrics.\n",
    "  2. A coordinate-wise defense like `trimmed-mean` calculates the mean across the remaining gradients after trimming the extremes.\n",
    "### - _(1 point)_ Successfully integrate these two defense mechanisms [`multi-krum`, `trimmed-mean`] to implement the Bulyan."
   ]
  },
  {
   "cell_type": "markdown",
   "metadata": {},
   "source": [
    "The difference between these two methods in terms of code implementation is that the multi-krum method selects the updates and returns the index of the updates that can be trusted, while the trimmed-mean method calculates the average of the updates in a certain dimension directly after removing the ones that are either too small or too large, and returns the gradient that is calculated and then magnify the gradient by a factor of 20.\n",
    "\n",
    "If we want to integrate them together, my idea is that we can first use the multi-krum method to select a batch of trustworthy updates corresponding to the index, and then apply the trimmed-mean method to these updates to calculate the average gradient."
   ]
  },
  {
   "cell_type": "markdown",
   "metadata": {},
   "source": [
    "Here, k=14, beta=0.2, n_attackers = int(20*beta). So we'll have 6 gradients to calcute the mean gradient."
   ]
  },
  {
   "cell_type": "code",
   "execution_count": 9,
   "metadata": {},
   "outputs": [],
   "source": [
    "def multi_krum(clients_updates, k=14, n=20, m=5):\n",
    "    selected_indices = []\n",
    "    remaining_updates = clients_updates[:]\n",
    "\n",
    "    for i in range(k):\n",
    "        # Apply Krum to the remaining updates and get the index of the best gradient\n",
    "        selected_index = krum(remaining_updates,n-i,m)[0]\n",
    "        \n",
    "        # Map selected index from remaining_updates back to the original clients_updates\n",
    "        original_index = clients_updates.index(remaining_updates[selected_index])\n",
    "        selected_indices.append(original_index)\n",
    "        \n",
    "        # Remove the selected update from remaining_updates\n",
    "        remaining_updates.pop(selected_index)\n",
    "    # print('selected_indices: ', len(selected_indices))\n",
    "\n",
    "    return selected_indices\n",
    "\n",
    "def tr_mean(all_updates, beta=0.2):\n",
    "    # 'n_attackers' is the number of top and bottom values to exclude from the mean calculation.\n",
    "    \n",
    "    # Transpose the list to group gradients of the same parameter together\n",
    "    parameter_wise_updates = list(zip(*all_updates))\n",
    "    n_attackers = int(20*beta)\n",
    "    trimmed_mean_gradients = []\n",
    "    for parameter_group in parameter_wise_updates:\n",
    "        # Stack gradients to create a new dimension corresponding to clients\n",
    "        stacked_updates = torch.stack(parameter_group, dim=0)\n",
    "        \n",
    "        # Sort updates along the client dimension\n",
    "        sorted_updates = torch.sort(stacked_updates, dim=0)[0]\n",
    "        # Compute mean excluding the top and bottom 'n_attackers' updates\n",
    "        if n_attackers > 0:\n",
    "            trimmed_updates = sorted_updates[n_attackers:-n_attackers]\n",
    "        else:\n",
    "            trimmed_updates = sorted_updates\n",
    "        # print('sorted_updates: ', len(sorted_updates))\n",
    "        # print('trimmed_updates: ', len(trimmed_updates))\n",
    "            \n",
    "        mean_gradient = torch.mean(trimmed_updates, dim=0)\n",
    "        trimmed_mean_gradients.append(mean_gradient*20)\n",
    "    \n",
    "    return trimmed_mean_gradients"
   ]
  },
  {
   "cell_type": "code",
   "execution_count": 10,
   "metadata": {},
   "outputs": [],
   "source": [
    "class FedAvgServerDefenseBulyan(FedAvgGradServer):\n",
    "    def __init__(self, lr: float, batch_size: int, client_subsets: list, client_fraction: float, nr_local_epochs: int, seed: int, defense_1=None, defense_2=None):\n",
    "        super().__init__(lr, batch_size, client_subsets, client_fraction, nr_local_epochs, seed)\n",
    "        self.multi_krum = defense_1\n",
    "        self.tr_mean = defense_2\n",
    "\n",
    "    def run(self, nr_rounds: int) -> RunResult:\n",
    "        elapsed_time = 0.\n",
    "        run_result = RunResult(self.name, self.nr_clients, self.client_fraction, self.batch_size, self.nr_local_epochs, self.lr, self.seed)\n",
    "        \n",
    "        # Initial server weights\n",
    "        server_weights = [param.data.clone() for param in self.model.parameters()]\n",
    "        for nr_round in tqdm(range(nr_rounds), desc=\"Rounds\", leave=False):\n",
    "            setup_start_time = perf_counter()\n",
    "            self.model.train()\n",
    "            weights = [x.detach().cpu().clone() for x in self.model.parameters()]\n",
    "            indices_chosen_clients = self.rng.choice(self.nr_clients, self.nr_clients_per_round, replace=False)\n",
    "            chosen_sum_nr_samples = sum(self.client_sample_counts[i] for i in indices_chosen_clients)\n",
    "            chosen_adjusted_weights: list[list[torch.Tensor]] = []\n",
    "            elapsed_time += perf_counter() - setup_start_time\n",
    "            update_time = 0.\n",
    "            \n",
    "            # Collect client updates\n",
    "            client_updates = []  # Store (client_index, updates) tuples\n",
    "            for c_i in indices_chosen_clients:\n",
    "                update_start_time = perf_counter()\n",
    "                ind = int(c_i)\n",
    "                client_round_seed = self.seed + ind + 1 + nr_round * self.nr_clients_per_round\n",
    "                client_weights = self.clients[ind].update(weights, client_round_seed)\n",
    "                client_updates.append((ind, client_weights))\n",
    "                update_time = max(update_time, perf_counter() - update_start_time)\n",
    "            \n",
    "            # Apply multi_krum or use all updates\n",
    "            if self.multi_krum:\n",
    "                selected_indices = self.multi_krum(client_updates)\n",
    "            else:\n",
    "                selected_indices = range(len(client_updates))  # Use all updates if no defense is specified\n",
    "            print(f'The following indices are selected in the training {np.sort(indices_chosen_clients[selected_indices])}')\n",
    "            chosen_sum_nr_samples = sum(self.client_sample_counts[i] for i in indices_chosen_clients[selected_indices])\n",
    "            chosen_adjusted_weights = [\n",
    "                [self.client_sample_counts[indices_chosen_clients[ind]] / chosen_sum_nr_samples * tens for tens in client_updates[ind][1]]\n",
    "                for ind in selected_indices\n",
    "            ]\n",
    "            \n",
    "            # Aggregation logic for tr_mean\n",
    "            elapsed_time += update_time\n",
    "            aggregate_start_time = perf_counter()\n",
    "            if self.tr_mean:\n",
    "                averaged_gradients = self.tr_mean(chosen_adjusted_weights)\n",
    "            else:\n",
    "                averaged_gradients: list[torch.Tensor] = [sum(x) for x in zip(*chosen_adjusted_weights)]\n",
    "\n",
    "            # Update server model with averaged gradients\n",
    "            with torch.no_grad():\n",
    "                for server_weight, gradient in zip(server_weights, averaged_gradients):\n",
    "                    server_weight -= gradient.to(device=device)  # Assume learning rate is absorbed in gradient\n",
    "            \n",
    "            # Distribute updated weights to clients\n",
    "            with torch.no_grad():\n",
    "                for param, server_weight in zip(self.model.parameters(), server_weights):\n",
    "                    param.data[:] = server_weight.data\n",
    "\n",
    "            elapsed_time += perf_counter() - aggregate_start_time\n",
    "            run_result.wall_time.append(round(elapsed_time, 1))\n",
    "            run_result.message_count.append(2 * (nr_round + 1) * self.nr_clients_per_round)\n",
    "            run_result.test_accuracy.append(self.test())\n",
    "\n",
    "        return run_result"
   ]
  },
  {
   "cell_type": "markdown",
   "metadata": {},
   "source": [
    "### - _(3 points)_ Evaluate the performance of your implemented Bulyan defense against three types of attacks: `AttackerGradientReversion`, `AttackerPartGradientReversion`, and `AttackerBackdoor`. Vary the defense hyperparameters to make your defense defend against these attacks while keeping the data distribution i.i.d. and the attacker's hyperparameters constant as per the template. Document the performance of your defense strategy against these attacks in your notebook."
   ]
  },
  {
   "cell_type": "markdown",
   "metadata": {},
   "source": [
    "AttackerPartGradientReversion"
   ]
  },
  {
   "cell_type": "code",
   "execution_count": 11,
   "metadata": {},
   "outputs": [],
   "source": [
    "class AttackerPartGradientReversion(GradWeightClient):\n",
    "    def update(self, weights: list[torch.Tensor], seed: int) -> list[torch.Tensor]:\n",
    "        # Set random seed for reproducibility\n",
    "        torch.manual_seed(seed)\n",
    "\n",
    "        # Call the base implementation to perform the normal training and update process\n",
    "        honest_gradients = super().update(weights, seed)\n",
    "\n",
    "        # Flatten the gradients and calculate 10% of the total number of gradient elements\n",
    "        all_gradients = torch.cat([g.flatten() for g in honest_gradients])\n",
    "        num_to_manipulate = int(all_gradients.numel())\n",
    "\n",
    "        # Determine the threshold of parameters to modify\n",
    "        param_threshold = num_to_manipulate*0.00001  # Set this to your desired threshold\n",
    "\n",
    "        # Select the first k layers until the cumulative number of parameters exceeds the threshold\n",
    "        cumulative_params = 0\n",
    "        selected_gradients = []\n",
    "        for gradient in honest_gradients:\n",
    "            #print(gradient.numel())\n",
    "            cumulative_params += gradient.numel()\n",
    "            selected_gradients.append(gradient)\n",
    "            if cumulative_params >= param_threshold:\n",
    "                break\n",
    "\n",
    "        # Multiply the selected gradients by -1000\n",
    "        for gradient in selected_gradients:\n",
    "            gradient *= -1000\n",
    "\n",
    "        return honest_gradients  # Return the modified gradients"
   ]
  },
  {
   "cell_type": "markdown",
   "metadata": {},
   "source": [
    "AttackerBackdoor"
   ]
  },
  {
   "cell_type": "code",
   "execution_count": 12,
   "metadata": {},
   "outputs": [],
   "source": [
    "import random\n",
    "\n",
    "# a new data class that help us to process batch\n",
    "@dataclass\n",
    "class Batch:\n",
    "    batch_id: int\n",
    "    inputs: torch.Tensor\n",
    "    labels: torch.Tensor\n",
    "\n",
    "    def __post_init__(self):\n",
    "        self.batch_size = self.inputs.shape[0]\n",
    "\n",
    "    def to(self, device):\n",
    "        inputs = self.inputs.to(device)\n",
    "        labels = self.labels.to(device)\n",
    "        return Batch(self.batch_id, inputs, labels)\n",
    "\n",
    "    def clone(self):\n",
    "        inputs = self.inputs.clone()\n",
    "        labels = self.labels.clone()\n",
    "        return Batch(self.batch_id, inputs, labels)\n",
    "\n",
    "\n",
    "    def clip(self, batch_size):\n",
    "        if batch_size is None:\n",
    "            return self\n",
    "\n",
    "        inputs = self.inputs[:batch_size]\n",
    "        labels = self.labels[:batch_size]\n",
    "\n",
    "        return Batch(self.batch_id, inputs, labels)\n",
    "\n",
    "class Synthesizer:\n",
    "    def __init__(self, poisoning_proportion):\n",
    "        self.poisoning_proportion = poisoning_proportion\n",
    "\n",
    "    def make_backdoor_batch(self, batch: Batch, test=False, attack=True) -> Batch:\n",
    "        if not attack:\n",
    "            return batch\n",
    "\n",
    "        if test:\n",
    "            attack_portion = batch.batch_size\n",
    "        else:\n",
    "            attack_portion = round(\n",
    "                batch.batch_size * self.poisoning_proportion)\n",
    "\n",
    "        backdoored_batch = batch.clone()\n",
    "        self.apply_backdoor(backdoored_batch, attack_portion)\n",
    "        return backdoored_batch\n",
    "\n",
    "    def apply_backdoor(self, batch, attack_portion):\n",
    "        \"\"\"\n",
    "        Modifies only a portion of the batch (represents batch poisoning).\n",
    "\n",
    "        :param batch:\n",
    "        :return:\n",
    "        \"\"\"\n",
    "        self.synthesize_inputs(batch=batch, attack_portion=attack_portion)\n",
    "        self.synthesize_labels(batch=batch, attack_portion=attack_portion)\n",
    "\n",
    "        return\n",
    "\n",
    "    def synthesize_inputs(self, batch, attack_portion=None):\n",
    "        raise NotImplemented\n",
    "\n",
    "    def synthesize_labels(self, batch, attack_portion=None):\n",
    "        raise NotImplemented\n",
    "\n",
    "class PatternSynthesizer(Synthesizer):\n",
    "    pattern_tensor: torch.Tensor = torch.tensor([\n",
    "        [1., 0., 1.],\n",
    "        [-10., 1., -10.],\n",
    "        [-10., -10., 0.],\n",
    "        [-10., 1., -10.],\n",
    "        [1., 0., 1.]\n",
    "    ])\n",
    "    \"Just some random 2D pattern.\"\n",
    "\n",
    "    x_top = 3\n",
    "    \"X coordinate to put the backdoor into.\"\n",
    "    y_top = 23\n",
    "    \"Y coordinate to put the backdoor into.\"\n",
    "\n",
    "    mask_value = -10\n",
    "    \"A tensor coordinate with this value won't be applied to the image.\"\n",
    "\n",
    "    resize_scale = (5, 10)\n",
    "    \"If the pattern is dynamically placed, resize the pattern.\"\n",
    "\n",
    "    mask: torch.Tensor = None\n",
    "    \"A mask used to combine backdoor pattern with the original image.\"\n",
    "\n",
    "    pattern: torch.Tensor = None\n",
    "    \"A tensor of the `input.shape` filled with `mask_value` except backdoor.\"\n",
    "\n",
    "    def __init__(self, poisoning_proportion):\n",
    "        super().__init__(poisoning_proportion)\n",
    "        self.input_shape = (1, 28, 28)\n",
    "        self.backdoor_label = 0\n",
    "        self.normalize = transforms.Normalize((0.1307,), (0.3081,))\n",
    "        self.make_pattern(self.pattern_tensor, self.x_top, self.y_top)\n",
    "\n",
    "\n",
    "    def make_pattern(self, pattern_tensor, x_top, y_top):\n",
    "        # put pattern into the image\n",
    "        full_image = torch.zeros(self.input_shape)\n",
    "        full_image.fill_(self.mask_value)\n",
    "        # full image has a pixel value of -10\n",
    "        x_bot = x_top + pattern_tensor.shape[0]\n",
    "        y_bot = y_top + pattern_tensor.shape[1]\n",
    "\n",
    "        if x_bot >= self.input_shape[1] or \\\n",
    "                y_bot >= self.input_shape[2]:\n",
    "            raise ValueError(f'Position of backdoor outside image limits:'\n",
    "                             f'image: {self.input_shape}, but backdoor'\n",
    "                             f'ends at ({x_bot}, {y_bot})')\n",
    "\n",
    "        full_image[:, x_top:x_bot, y_top:y_bot] = pattern_tensor\n",
    "        # full image has a pixel value of -10 except for the backdoor (pattern_tensor) size: 5 * 3\n",
    "        self.mask = 1 * (full_image != self.mask_value).to(device) # (0, 1)\n",
    "        # mask is a tensor of 0 and 1, 0 for -10 and 1 for other values\n",
    "        self.pattern = self.normalize(full_image).to(device) # )(-52.5678, 2.7537)\n",
    "\n",
    "\n",
    "    def synthesize_inputs(self, batch, attack_portion=None):\n",
    "        pattern, mask = self.get_pattern()\n",
    "        # mask value (0, 1); value 0, keep the original image; value 1, replace with pattern\n",
    "        batch.inputs[:attack_portion] = (1 - mask) * \\\n",
    "                                        batch.inputs[:attack_portion] + \\\n",
    "                                        mask * pattern\n",
    "\n",
    "        return\n",
    "\n",
    "    def synthesize_labels(self, batch, attack_portion=None):\n",
    "        batch.labels[:attack_portion].fill_(self.backdoor_label)\n",
    "        return\n",
    "\n",
    "    def get_pattern(self):\n",
    "        return self.pattern, self.mask"
   ]
  },
  {
   "cell_type": "code",
   "execution_count": 13,
   "metadata": {},
   "outputs": [],
   "source": [
    "poisoning_proportion = 0.5 \n",
    "synthesizer = PatternSynthesizer(poisoning_proportion=poisoning_proportion)"
   ]
  },
  {
   "cell_type": "code",
   "execution_count": 14,
   "metadata": {},
   "outputs": [],
   "source": [
    "class AttackerBackdoor(GradWeightClient):\n",
    "    def train_epoch(self, model: torch.nn.Module, loader: DataLoader, optimizer: Optimizer) -> None:\n",
    "        model.train()\n",
    "        for batch_idx, (inputs, labels) in enumerate(loader):\n",
    "            batch = Batch(batch_idx, inputs, labels)\n",
    "            batch = batch.to(device)\n",
    "            backdoored_batch = synthesizer.make_backdoor_batch(batch, test=False, attack=True)\n",
    "            data = backdoored_batch.inputs\n",
    "            target = backdoored_batch.labels\n",
    "            optimizer.zero_grad()\n",
    "            output = model(data)\n",
    "            loss = F.nll_loss(output, target)\n",
    "            loss.backward()\n",
    "            optimizer.step()\n",
    "            \n",
    "    def update(self, weights: list[torch.Tensor], seed: int) -> list[torch.Tensor]:\n",
    "        # Load the server weights into the model\n",
    "        with torch.no_grad():\n",
    "            for client_values, server_values in zip(self.model.parameters(), weights):\n",
    "                client_values[:] = server_values\n",
    "\n",
    "        self.generator.manual_seed(seed)\n",
    "        \n",
    "        # Save initial weights to calculate the gradients later\n",
    "        initial_weights = [param.clone() for param in self.model.parameters()]\n",
    "        \n",
    "        for _epoch in range(self.nr_epochs):\n",
    "            self.train_epoch(self.model, self.loader_train, self.optimizer)\n",
    "        \n",
    "        # Calculate gradients: final_weights - initial_weights\n",
    "        gradients = [5*(initial_weight - final_weight) for final_weight, initial_weight in zip(self.model.parameters(), initial_weights)]\n",
    "        \n",
    "        return [gradient.detach().cpu().clone() for gradient in gradients]"
   ]
  },
  {
   "cell_type": "markdown",
   "metadata": {},
   "source": [
    "#### Evaluate part"
   ]
  },
  {
   "cell_type": "code",
   "execution_count": 93,
   "metadata": {},
   "outputs": [],
   "source": [
    "sample_split = split(100, True, 42)"
   ]
  },
  {
   "cell_type": "markdown",
   "metadata": {},
   "source": [
    "##### Against AttackerGradientReversion"
   ]
  },
  {
   "cell_type": "code",
   "execution_count": 50,
   "metadata": {},
   "outputs": [
    {
     "name": "stdout",
     "output_type": "stream",
     "text": [
      "the following is the malicious indices: [ 0  3  7 14 15 16 29 31 45 52 53 54 58 63 68 73 74 75 76 79]\n"
     ]
    },
    {
     "name": "stderr",
     "output_type": "stream",
     "text": [
      "Rounds:   0%|          | 0/10 [00:00<?, ?it/s]"
     ]
    },
    {
     "name": "stdout",
     "output_type": "stream",
     "text": [
      "The following indices are selected in the training [ 8 12 17 36 47 49 61 63 75 83 84 86 89 94]\n"
     ]
    },
    {
     "name": "stderr",
     "output_type": "stream",
     "text": [
      "Rounds:  10%|█         | 1/10 [00:02<00:23,  2.58s/it]"
     ]
    },
    {
     "name": "stdout",
     "output_type": "stream",
     "text": [
      "The following indices are selected in the training [ 4  5 13 18 30 34 44 47 51 61 62 70 79 84]\n"
     ]
    },
    {
     "name": "stderr",
     "output_type": "stream",
     "text": [
      "Rounds:  20%|██        | 2/10 [00:05<00:20,  2.61s/it]"
     ]
    },
    {
     "name": "stdout",
     "output_type": "stream",
     "text": [
      "The following indices are selected in the training [ 8 13 23 28 36 37 40 54 69 71 78 86 87 97]\n"
     ]
    },
    {
     "name": "stderr",
     "output_type": "stream",
     "text": [
      "Rounds:  30%|███       | 3/10 [00:07<00:18,  2.59s/it]"
     ]
    },
    {
     "name": "stdout",
     "output_type": "stream",
     "text": [
      "The following indices are selected in the training [ 7  8  9 11 20 30 36 40 50 59 60 69 77 94]\n"
     ]
    },
    {
     "name": "stderr",
     "output_type": "stream",
     "text": [
      "Rounds:  40%|████      | 4/10 [00:10<00:15,  2.55s/it]"
     ]
    },
    {
     "name": "stdout",
     "output_type": "stream",
     "text": [
      "The following indices are selected in the training [ 2  8 10 15 31 35 37 41 46 57 65 70 84 87]\n"
     ]
    },
    {
     "name": "stderr",
     "output_type": "stream",
     "text": [
      "Rounds:  50%|█████     | 5/10 [00:12<00:12,  2.53s/it]"
     ]
    },
    {
     "name": "stdout",
     "output_type": "stream",
     "text": [
      "The following indices are selected in the training [ 7  9 25 41 43 44 62 69 70 77 81 83 93 99]\n"
     ]
    },
    {
     "name": "stderr",
     "output_type": "stream",
     "text": [
      "Rounds:  60%|██████    | 6/10 [00:15<00:10,  2.50s/it]"
     ]
    },
    {
     "name": "stdout",
     "output_type": "stream",
     "text": [
      "The following indices are selected in the training [ 8 17 18 26 32 36 39 48 51 55 70 74 89 93]\n"
     ]
    },
    {
     "name": "stderr",
     "output_type": "stream",
     "text": [
      "Rounds:  70%|███████   | 7/10 [00:17<00:07,  2.52s/it]"
     ]
    },
    {
     "name": "stdout",
     "output_type": "stream",
     "text": [
      "The following indices are selected in the training [ 5 24 26 34 39 40 43 44 60 66 77 87 91 95]\n"
     ]
    },
    {
     "name": "stderr",
     "output_type": "stream",
     "text": [
      "Rounds:  80%|████████  | 8/10 [00:20<00:05,  2.51s/it]"
     ]
    },
    {
     "name": "stdout",
     "output_type": "stream",
     "text": [
      "The following indices are selected in the training [ 9 13 20 21 22 28 37 55 81 84 85 89 90 92]\n"
     ]
    },
    {
     "name": "stderr",
     "output_type": "stream",
     "text": [
      "Rounds:  90%|█████████ | 9/10 [00:22<00:02,  2.54s/it]"
     ]
    },
    {
     "name": "stdout",
     "output_type": "stream",
     "text": [
      "The following indices are selected in the training [ 2  8 13 20 24 30 33 49 77 81 83 84 90 98]\n"
     ]
    },
    {
     "name": "stderr",
     "output_type": "stream",
     "text": [
      "                                                       \r"
     ]
    },
    {
     "data": {
      "text/html": [
       "<div>\n",
       "<style scoped>\n",
       "    .dataframe tbody tr th:only-of-type {\n",
       "        vertical-align: middle;\n",
       "    }\n",
       "\n",
       "    .dataframe tbody tr th {\n",
       "        vertical-align: top;\n",
       "    }\n",
       "\n",
       "    .dataframe thead th {\n",
       "        text-align: right;\n",
       "    }\n",
       "</style>\n",
       "<table border=\"1\" class=\"dataframe\">\n",
       "  <thead>\n",
       "    <tr style=\"text-align: right;\">\n",
       "      <th></th>\n",
       "      <th>Round</th>\n",
       "      <th>Algorithm</th>\n",
       "      <th>N</th>\n",
       "      <th>C</th>\n",
       "      <th>B</th>\n",
       "      <th>E</th>\n",
       "      <th>η</th>\n",
       "      <th>Seed</th>\n",
       "      <th>Wall time</th>\n",
       "      <th>Message count</th>\n",
       "      <th>Test accuracy</th>\n",
       "    </tr>\n",
       "  </thead>\n",
       "  <tbody>\n",
       "    <tr>\n",
       "      <th>0</th>\n",
       "      <td>1</td>\n",
       "      <td>FedAvg</td>\n",
       "      <td>100</td>\n",
       "      <td>0.2</td>\n",
       "      <td>200</td>\n",
       "      <td>2</td>\n",
       "      <td>0.02</td>\n",
       "      <td>42</td>\n",
       "      <td>0.1</td>\n",
       "      <td>40</td>\n",
       "      <td>23.94</td>\n",
       "    </tr>\n",
       "    <tr>\n",
       "      <th>1</th>\n",
       "      <td>2</td>\n",
       "      <td>FedAvg</td>\n",
       "      <td>100</td>\n",
       "      <td>0.2</td>\n",
       "      <td>200</td>\n",
       "      <td>2</td>\n",
       "      <td>0.02</td>\n",
       "      <td>42</td>\n",
       "      <td>0.3</td>\n",
       "      <td>80</td>\n",
       "      <td>62.44</td>\n",
       "    </tr>\n",
       "    <tr>\n",
       "      <th>2</th>\n",
       "      <td>3</td>\n",
       "      <td>FedAvg</td>\n",
       "      <td>100</td>\n",
       "      <td>0.2</td>\n",
       "      <td>200</td>\n",
       "      <td>2</td>\n",
       "      <td>0.02</td>\n",
       "      <td>42</td>\n",
       "      <td>0.4</td>\n",
       "      <td>120</td>\n",
       "      <td>70.16</td>\n",
       "    </tr>\n",
       "    <tr>\n",
       "      <th>3</th>\n",
       "      <td>4</td>\n",
       "      <td>FedAvg</td>\n",
       "      <td>100</td>\n",
       "      <td>0.2</td>\n",
       "      <td>200</td>\n",
       "      <td>2</td>\n",
       "      <td>0.02</td>\n",
       "      <td>42</td>\n",
       "      <td>0.6</td>\n",
       "      <td>160</td>\n",
       "      <td>77.32</td>\n",
       "    </tr>\n",
       "    <tr>\n",
       "      <th>4</th>\n",
       "      <td>5</td>\n",
       "      <td>FedAvg</td>\n",
       "      <td>100</td>\n",
       "      <td>0.2</td>\n",
       "      <td>200</td>\n",
       "      <td>2</td>\n",
       "      <td>0.02</td>\n",
       "      <td>42</td>\n",
       "      <td>0.7</td>\n",
       "      <td>200</td>\n",
       "      <td>80.42</td>\n",
       "    </tr>\n",
       "    <tr>\n",
       "      <th>5</th>\n",
       "      <td>6</td>\n",
       "      <td>FedAvg</td>\n",
       "      <td>100</td>\n",
       "      <td>0.2</td>\n",
       "      <td>200</td>\n",
       "      <td>2</td>\n",
       "      <td>0.02</td>\n",
       "      <td>42</td>\n",
       "      <td>0.8</td>\n",
       "      <td>240</td>\n",
       "      <td>83.84</td>\n",
       "    </tr>\n",
       "    <tr>\n",
       "      <th>6</th>\n",
       "      <td>7</td>\n",
       "      <td>FedAvg</td>\n",
       "      <td>100</td>\n",
       "      <td>0.2</td>\n",
       "      <td>200</td>\n",
       "      <td>2</td>\n",
       "      <td>0.02</td>\n",
       "      <td>42</td>\n",
       "      <td>1.0</td>\n",
       "      <td>280</td>\n",
       "      <td>85.19</td>\n",
       "    </tr>\n",
       "    <tr>\n",
       "      <th>7</th>\n",
       "      <td>8</td>\n",
       "      <td>FedAvg</td>\n",
       "      <td>100</td>\n",
       "      <td>0.2</td>\n",
       "      <td>200</td>\n",
       "      <td>2</td>\n",
       "      <td>0.02</td>\n",
       "      <td>42</td>\n",
       "      <td>1.1</td>\n",
       "      <td>320</td>\n",
       "      <td>86.89</td>\n",
       "    </tr>\n",
       "    <tr>\n",
       "      <th>8</th>\n",
       "      <td>9</td>\n",
       "      <td>FedAvg</td>\n",
       "      <td>100</td>\n",
       "      <td>0.2</td>\n",
       "      <td>200</td>\n",
       "      <td>2</td>\n",
       "      <td>0.02</td>\n",
       "      <td>42</td>\n",
       "      <td>1.3</td>\n",
       "      <td>360</td>\n",
       "      <td>87.74</td>\n",
       "    </tr>\n",
       "    <tr>\n",
       "      <th>9</th>\n",
       "      <td>10</td>\n",
       "      <td>FedAvg</td>\n",
       "      <td>100</td>\n",
       "      <td>0.2</td>\n",
       "      <td>200</td>\n",
       "      <td>2</td>\n",
       "      <td>0.02</td>\n",
       "      <td>42</td>\n",
       "      <td>1.4</td>\n",
       "      <td>400</td>\n",
       "      <td>88.68</td>\n",
       "    </tr>\n",
       "  </tbody>\n",
       "</table>\n",
       "</div>"
      ],
      "text/plain": [
       "   Round Algorithm    N    C    B  E     η  Seed  Wall time  Message count  \\\n",
       "0      1    FedAvg  100  0.2  200  2  0.02    42        0.1             40   \n",
       "1      2    FedAvg  100  0.2  200  2  0.02    42        0.3             80   \n",
       "2      3    FedAvg  100  0.2  200  2  0.02    42        0.4            120   \n",
       "3      4    FedAvg  100  0.2  200  2  0.02    42        0.6            160   \n",
       "4      5    FedAvg  100  0.2  200  2  0.02    42        0.7            200   \n",
       "5      6    FedAvg  100  0.2  200  2  0.02    42        0.8            240   \n",
       "6      7    FedAvg  100  0.2  200  2  0.02    42        1.0            280   \n",
       "7      8    FedAvg  100  0.2  200  2  0.02    42        1.1            320   \n",
       "8      9    FedAvg  100  0.2  200  2  0.02    42        1.3            360   \n",
       "9     10    FedAvg  100  0.2  200  2  0.02    42        1.4            400   \n",
       "\n",
       "   Test accuracy  \n",
       "0          23.94  \n",
       "1          62.44  \n",
       "2          70.16  \n",
       "3          77.32  \n",
       "4          80.42  \n",
       "5          83.84  \n",
       "6          85.19  \n",
       "7          86.89  \n",
       "8          87.74  \n",
       "9          88.68  "
      ]
     },
     "execution_count": 50,
     "metadata": {},
     "output_type": "execute_result"
    }
   ],
   "source": [
    "fedavg_server = FedAvgServerDefenseBulyan(0.02, 200, sample_split, 0.2, 2, 42, defense_1 = multi_krum, defense_2 = tr_mean)\n",
    "# fedavg_server = FedAvgServerDefense(0.02, 200, sample_split, 0.2, 2, 42, defense=krum)\n",
    "clients = fedavg_server.clients\n",
    "# Number of clients to be made malicious with gradient reversion\n",
    "num_malicious = int(0.20 * len(clients))  # For example, 20%\n",
    "# Randomly select indices for the clients to undergo gradient inversion attack\n",
    "malicious_indices = np.random.choice(len(clients), num_malicious, replace=False)\n",
    "# Replace the selected clients with instances of AttackerGradientInversion\n",
    "print(f'the following is the malicious indices: {np.sort(malicious_indices)}')\n",
    "for idx in malicious_indices:\n",
    "    client_data = clients[idx].loader_train.dataset\n",
    "    lr = clients[idx].optimizer.param_groups[0]['lr']\n",
    "    batch_size = clients[idx].loader_train.batch_size\n",
    "    nr_epochs = clients[idx].nr_epochs\n",
    "    clients[idx] = AttackerGradientReversion(client_data, lr, batch_size, nr_epochs)\n",
    "\n",
    "result_fedavg_krum = fedavg_server.run(10)\n",
    "fedavg_df_krum = result_fedavg_krum.as_df()\n",
    "fedavg_df_krum"
   ]
  },
  {
   "cell_type": "markdown",
   "metadata": {},
   "source": [
    "##### Against AttackerPartGradientReversion"
   ]
  },
  {
   "cell_type": "code",
   "execution_count": 51,
   "metadata": {},
   "outputs": [
    {
     "name": "stdout",
     "output_type": "stream",
     "text": [
      "the following is the malicious indices: [ 3 14 15 16 20 31 44 50 51 54 67 71 78 79 81 83 93 94 96 99]\n"
     ]
    },
    {
     "name": "stderr",
     "output_type": "stream",
     "text": [
      "Rounds:   0%|          | 0/10 [00:00<?, ?it/s]"
     ]
    },
    {
     "name": "stdout",
     "output_type": "stream",
     "text": [
      "The following indices are selected in the training [ 7 12 17 36 47 49 61 63 68 73 75 84 89 94]\n"
     ]
    },
    {
     "name": "stderr",
     "output_type": "stream",
     "text": [
      "Rounds:  10%|█         | 1/10 [00:02<00:21,  2.38s/it]"
     ]
    },
    {
     "name": "stdout",
     "output_type": "stream",
     "text": [
      "The following indices are selected in the training [ 4  5 13 18 30 34 39 47 53 58 61 62 70 84]\n"
     ]
    },
    {
     "name": "stderr",
     "output_type": "stream",
     "text": [
      "Rounds:  20%|██        | 2/10 [00:04<00:20,  2.51s/it]"
     ]
    },
    {
     "name": "stdout",
     "output_type": "stream",
     "text": [
      "The following indices are selected in the training [ 8 13 23 28 36 37 40 61 68 69 75 76 87 97]\n"
     ]
    },
    {
     "name": "stderr",
     "output_type": "stream",
     "text": [
      "Rounds:  30%|███       | 3/10 [00:07<00:17,  2.54s/it]"
     ]
    },
    {
     "name": "stdout",
     "output_type": "stream",
     "text": [
      "The following indices are selected in the training [ 7  8  9 11 30 40 50 52 53 59 60 69 75 85]\n"
     ]
    },
    {
     "name": "stderr",
     "output_type": "stream",
     "text": [
      "Rounds:  40%|████      | 4/10 [00:10<00:15,  2.58s/it]"
     ]
    },
    {
     "name": "stdout",
     "output_type": "stream",
     "text": [
      "The following indices are selected in the training [ 2  8 10 15 35 41 46 57 65 68 70 73 84 87]\n"
     ]
    },
    {
     "name": "stderr",
     "output_type": "stream",
     "text": [
      "Rounds:  50%|█████     | 5/10 [00:12<00:13,  2.63s/it]"
     ]
    },
    {
     "name": "stdout",
     "output_type": "stream",
     "text": [
      "The following indices are selected in the training [ 7  9 24 25 41 43 62 69 70 73 77 79 90 99]\n"
     ]
    },
    {
     "name": "stderr",
     "output_type": "stream",
     "text": [
      "Rounds:  60%|██████    | 6/10 [00:15<00:10,  2.63s/it]"
     ]
    },
    {
     "name": "stdout",
     "output_type": "stream",
     "text": [
      "The following indices are selected in the training [ 8 12 17 18 26 32 36 39 48 51 53 55 70 74]\n"
     ]
    },
    {
     "name": "stderr",
     "output_type": "stream",
     "text": [
      "Rounds:  70%|███████   | 7/10 [00:18<00:07,  2.60s/it]"
     ]
    },
    {
     "name": "stdout",
     "output_type": "stream",
     "text": [
      "The following indices are selected in the training [ 5  7 24 26 34 39 40 43 45 60 66 77 87 95]\n"
     ]
    },
    {
     "name": "stderr",
     "output_type": "stream",
     "text": [
      "Rounds:  80%|████████  | 8/10 [00:20<00:05,  2.63s/it]"
     ]
    },
    {
     "name": "stdout",
     "output_type": "stream",
     "text": [
      "The following indices are selected in the training [ 9 13 21 22 23 28 37 54 55 62 84 89 90 92]\n"
     ]
    },
    {
     "name": "stderr",
     "output_type": "stream",
     "text": [
      "Rounds:  90%|█████████ | 9/10 [00:23<00:02,  2.62s/it]"
     ]
    },
    {
     "name": "stdout",
     "output_type": "stream",
     "text": [
      "The following indices are selected in the training [ 2  8 10 13 30 33 36 45 49 66 76 77 84 98]\n"
     ]
    },
    {
     "name": "stderr",
     "output_type": "stream",
     "text": [
      "                                                       \r"
     ]
    },
    {
     "data": {
      "text/html": [
       "<div>\n",
       "<style scoped>\n",
       "    .dataframe tbody tr th:only-of-type {\n",
       "        vertical-align: middle;\n",
       "    }\n",
       "\n",
       "    .dataframe tbody tr th {\n",
       "        vertical-align: top;\n",
       "    }\n",
       "\n",
       "    .dataframe thead th {\n",
       "        text-align: right;\n",
       "    }\n",
       "</style>\n",
       "<table border=\"1\" class=\"dataframe\">\n",
       "  <thead>\n",
       "    <tr style=\"text-align: right;\">\n",
       "      <th></th>\n",
       "      <th>Round</th>\n",
       "      <th>Algorithm</th>\n",
       "      <th>N</th>\n",
       "      <th>C</th>\n",
       "      <th>B</th>\n",
       "      <th>E</th>\n",
       "      <th>η</th>\n",
       "      <th>Seed</th>\n",
       "      <th>Wall time</th>\n",
       "      <th>Message count</th>\n",
       "      <th>Test accuracy</th>\n",
       "    </tr>\n",
       "  </thead>\n",
       "  <tbody>\n",
       "    <tr>\n",
       "      <th>0</th>\n",
       "      <td>1</td>\n",
       "      <td>FedAvg</td>\n",
       "      <td>100</td>\n",
       "      <td>0.2</td>\n",
       "      <td>200</td>\n",
       "      <td>2</td>\n",
       "      <td>0.02</td>\n",
       "      <td>42</td>\n",
       "      <td>0.1</td>\n",
       "      <td>40</td>\n",
       "      <td>34.61</td>\n",
       "    </tr>\n",
       "    <tr>\n",
       "      <th>1</th>\n",
       "      <td>2</td>\n",
       "      <td>FedAvg</td>\n",
       "      <td>100</td>\n",
       "      <td>0.2</td>\n",
       "      <td>200</td>\n",
       "      <td>2</td>\n",
       "      <td>0.02</td>\n",
       "      <td>42</td>\n",
       "      <td>0.3</td>\n",
       "      <td>80</td>\n",
       "      <td>59.91</td>\n",
       "    </tr>\n",
       "    <tr>\n",
       "      <th>2</th>\n",
       "      <td>3</td>\n",
       "      <td>FedAvg</td>\n",
       "      <td>100</td>\n",
       "      <td>0.2</td>\n",
       "      <td>200</td>\n",
       "      <td>2</td>\n",
       "      <td>0.02</td>\n",
       "      <td>42</td>\n",
       "      <td>0.4</td>\n",
       "      <td>120</td>\n",
       "      <td>71.75</td>\n",
       "    </tr>\n",
       "    <tr>\n",
       "      <th>3</th>\n",
       "      <td>4</td>\n",
       "      <td>FedAvg</td>\n",
       "      <td>100</td>\n",
       "      <td>0.2</td>\n",
       "      <td>200</td>\n",
       "      <td>2</td>\n",
       "      <td>0.02</td>\n",
       "      <td>42</td>\n",
       "      <td>0.6</td>\n",
       "      <td>160</td>\n",
       "      <td>78.22</td>\n",
       "    </tr>\n",
       "    <tr>\n",
       "      <th>4</th>\n",
       "      <td>5</td>\n",
       "      <td>FedAvg</td>\n",
       "      <td>100</td>\n",
       "      <td>0.2</td>\n",
       "      <td>200</td>\n",
       "      <td>2</td>\n",
       "      <td>0.02</td>\n",
       "      <td>42</td>\n",
       "      <td>0.7</td>\n",
       "      <td>200</td>\n",
       "      <td>80.31</td>\n",
       "    </tr>\n",
       "    <tr>\n",
       "      <th>5</th>\n",
       "      <td>6</td>\n",
       "      <td>FedAvg</td>\n",
       "      <td>100</td>\n",
       "      <td>0.2</td>\n",
       "      <td>200</td>\n",
       "      <td>2</td>\n",
       "      <td>0.02</td>\n",
       "      <td>42</td>\n",
       "      <td>0.9</td>\n",
       "      <td>240</td>\n",
       "      <td>84.32</td>\n",
       "    </tr>\n",
       "    <tr>\n",
       "      <th>6</th>\n",
       "      <td>7</td>\n",
       "      <td>FedAvg</td>\n",
       "      <td>100</td>\n",
       "      <td>0.2</td>\n",
       "      <td>200</td>\n",
       "      <td>2</td>\n",
       "      <td>0.02</td>\n",
       "      <td>42</td>\n",
       "      <td>1.0</td>\n",
       "      <td>280</td>\n",
       "      <td>86.25</td>\n",
       "    </tr>\n",
       "    <tr>\n",
       "      <th>7</th>\n",
       "      <td>8</td>\n",
       "      <td>FedAvg</td>\n",
       "      <td>100</td>\n",
       "      <td>0.2</td>\n",
       "      <td>200</td>\n",
       "      <td>2</td>\n",
       "      <td>0.02</td>\n",
       "      <td>42</td>\n",
       "      <td>1.1</td>\n",
       "      <td>320</td>\n",
       "      <td>87.31</td>\n",
       "    </tr>\n",
       "    <tr>\n",
       "      <th>8</th>\n",
       "      <td>9</td>\n",
       "      <td>FedAvg</td>\n",
       "      <td>100</td>\n",
       "      <td>0.2</td>\n",
       "      <td>200</td>\n",
       "      <td>2</td>\n",
       "      <td>0.02</td>\n",
       "      <td>42</td>\n",
       "      <td>1.3</td>\n",
       "      <td>360</td>\n",
       "      <td>88.13</td>\n",
       "    </tr>\n",
       "    <tr>\n",
       "      <th>9</th>\n",
       "      <td>10</td>\n",
       "      <td>FedAvg</td>\n",
       "      <td>100</td>\n",
       "      <td>0.2</td>\n",
       "      <td>200</td>\n",
       "      <td>2</td>\n",
       "      <td>0.02</td>\n",
       "      <td>42</td>\n",
       "      <td>1.4</td>\n",
       "      <td>400</td>\n",
       "      <td>88.79</td>\n",
       "    </tr>\n",
       "  </tbody>\n",
       "</table>\n",
       "</div>"
      ],
      "text/plain": [
       "   Round Algorithm    N    C    B  E     η  Seed  Wall time  Message count  \\\n",
       "0      1    FedAvg  100  0.2  200  2  0.02    42        0.1             40   \n",
       "1      2    FedAvg  100  0.2  200  2  0.02    42        0.3             80   \n",
       "2      3    FedAvg  100  0.2  200  2  0.02    42        0.4            120   \n",
       "3      4    FedAvg  100  0.2  200  2  0.02    42        0.6            160   \n",
       "4      5    FedAvg  100  0.2  200  2  0.02    42        0.7            200   \n",
       "5      6    FedAvg  100  0.2  200  2  0.02    42        0.9            240   \n",
       "6      7    FedAvg  100  0.2  200  2  0.02    42        1.0            280   \n",
       "7      8    FedAvg  100  0.2  200  2  0.02    42        1.1            320   \n",
       "8      9    FedAvg  100  0.2  200  2  0.02    42        1.3            360   \n",
       "9     10    FedAvg  100  0.2  200  2  0.02    42        1.4            400   \n",
       "\n",
       "   Test accuracy  \n",
       "0          34.61  \n",
       "1          59.91  \n",
       "2          71.75  \n",
       "3          78.22  \n",
       "4          80.31  \n",
       "5          84.32  \n",
       "6          86.25  \n",
       "7          87.31  \n",
       "8          88.13  \n",
       "9          88.79  "
      ]
     },
     "execution_count": 51,
     "metadata": {},
     "output_type": "execute_result"
    }
   ],
   "source": [
    "fedavg_server = FedAvgServerDefenseBulyan(0.02, 200, sample_split, 0.2, 2, 42, defense_1 = multi_krum, defense_2 = tr_mean)\n",
    "# fedavg_server = FedAvgServerDefense(0.02, 200, sample_split, 0.2, 2, 42, defense=krum)\n",
    "clients = fedavg_server.clients\n",
    "# Number of clients to be made malicious with gradient reversion\n",
    "num_malicious = int(0.20 * len(clients))  # For example, 20%\n",
    "# Randomly select indices for the clients to undergo gradient inversion attack\n",
    "malicious_indices = np.random.choice(len(clients), num_malicious, replace=False)\n",
    "# Replace the selected clients with instances of AttackerGradientInversion\n",
    "print(f'the following is the malicious indices: {np.sort(malicious_indices)}')\n",
    "for idx in malicious_indices:\n",
    "    client_data = clients[idx].loader_train.dataset\n",
    "    lr = clients[idx].optimizer.param_groups[0]['lr']\n",
    "    batch_size = clients[idx].loader_train.batch_size\n",
    "    nr_epochs = clients[idx].nr_epochs\n",
    "    clients[idx] = AttackerPartGradientReversion(client_data, lr, batch_size, nr_epochs)\n",
    "\n",
    "result_fedavg_krum = fedavg_server.run(10)\n",
    "fedavg_df_krum = result_fedavg_krum.as_df()\n",
    "fedavg_df_krum"
   ]
  },
  {
   "cell_type": "markdown",
   "metadata": {},
   "source": [
    "##### Against AttackerBackdoor"
   ]
  },
  {
   "cell_type": "code",
   "execution_count": 52,
   "metadata": {},
   "outputs": [
    {
     "name": "stdout",
     "output_type": "stream",
     "text": [
      "the following is the malicious indices: [ 0  7 11 19 21 23 30 34 35 40 44 45 47 56 58 59 68 69 73 95]\n"
     ]
    },
    {
     "name": "stderr",
     "output_type": "stream",
     "text": [
      "Rounds:   0%|          | 0/10 [00:00<?, ?it/s]"
     ]
    },
    {
     "name": "stdout",
     "output_type": "stream",
     "text": [
      "The following indices are selected in the training [ 7 12 17 36 49 54 61 63 71 75 83 84 89 94]\n"
     ]
    },
    {
     "name": "stderr",
     "output_type": "stream",
     "text": [
      "Rounds:  10%|█         | 1/10 [00:02<00:24,  2.69s/it]"
     ]
    },
    {
     "name": "stdout",
     "output_type": "stream",
     "text": [
      "The following indices are selected in the training [ 4  5 13 15 18 39 44 51 53 61 62 70 79 84]\n"
     ]
    },
    {
     "name": "stderr",
     "output_type": "stream",
     "text": [
      "Rounds:  20%|██        | 2/10 [00:05<00:21,  2.64s/it]"
     ]
    },
    {
     "name": "stdout",
     "output_type": "stream",
     "text": [
      "The following indices are selected in the training [ 8 13 23 28 37 54 71 75 76 78 79 86 87 97]\n"
     ]
    },
    {
     "name": "stderr",
     "output_type": "stream",
     "text": [
      "Rounds:  30%|███       | 3/10 [00:07<00:18,  2.58s/it]"
     ]
    },
    {
     "name": "stdout",
     "output_type": "stream",
     "text": [
      "The following indices are selected in the training [ 7  8 20 36 50 52 53 54 60 69 75 77 85 94]\n"
     ]
    },
    {
     "name": "stderr",
     "output_type": "stream",
     "text": [
      "Rounds:  40%|████      | 4/10 [00:10<00:15,  2.54s/it]"
     ]
    },
    {
     "name": "stdout",
     "output_type": "stream",
     "text": [
      "The following indices are selected in the training [ 2  8 10 15 31 37 41 46 57 65 70 84 87 94]\n"
     ]
    },
    {
     "name": "stderr",
     "output_type": "stream",
     "text": [
      "Rounds:  50%|█████     | 5/10 [00:12<00:12,  2.55s/it]"
     ]
    },
    {
     "name": "stdout",
     "output_type": "stream",
     "text": [
      "The following indices are selected in the training [ 7  9 24 25 28 41 43 62 70 77 81 90 93 99]\n"
     ]
    },
    {
     "name": "stderr",
     "output_type": "stream",
     "text": [
      "Rounds:  60%|██████    | 6/10 [00:15<00:10,  2.52s/it]"
     ]
    },
    {
     "name": "stdout",
     "output_type": "stream",
     "text": [
      "The following indices are selected in the training [ 3  8 18 26 32 36 48 51 53 55 70 74 89 93]\n"
     ]
    },
    {
     "name": "stderr",
     "output_type": "stream",
     "text": [
      "Rounds:  70%|███████   | 7/10 [00:17<00:07,  2.50s/it]"
     ]
    },
    {
     "name": "stdout",
     "output_type": "stream",
     "text": [
      "The following indices are selected in the training [ 5 24 26 39 43 52 54 60 66 77 79 87 91 95]\n"
     ]
    },
    {
     "name": "stderr",
     "output_type": "stream",
     "text": [
      "Rounds:  80%|████████  | 8/10 [00:20<00:05,  2.53s/it]"
     ]
    },
    {
     "name": "stdout",
     "output_type": "stream",
     "text": [
      "The following indices are selected in the training [ 9 13 20 22 28 54 55 62 81 84 85 89 90 92]\n"
     ]
    },
    {
     "name": "stderr",
     "output_type": "stream",
     "text": [
      "Rounds:  90%|█████████ | 9/10 [00:22<00:02,  2.53s/it]"
     ]
    },
    {
     "name": "stdout",
     "output_type": "stream",
     "text": [
      "The following indices are selected in the training [ 2  3  8 13 20 24 33 49 66 76 77 81 83 98]\n"
     ]
    },
    {
     "name": "stderr",
     "output_type": "stream",
     "text": [
      "                                                       \r"
     ]
    },
    {
     "data": {
      "text/html": [
       "<div>\n",
       "<style scoped>\n",
       "    .dataframe tbody tr th:only-of-type {\n",
       "        vertical-align: middle;\n",
       "    }\n",
       "\n",
       "    .dataframe tbody tr th {\n",
       "        vertical-align: top;\n",
       "    }\n",
       "\n",
       "    .dataframe thead th {\n",
       "        text-align: right;\n",
       "    }\n",
       "</style>\n",
       "<table border=\"1\" class=\"dataframe\">\n",
       "  <thead>\n",
       "    <tr style=\"text-align: right;\">\n",
       "      <th></th>\n",
       "      <th>Round</th>\n",
       "      <th>Algorithm</th>\n",
       "      <th>N</th>\n",
       "      <th>C</th>\n",
       "      <th>B</th>\n",
       "      <th>E</th>\n",
       "      <th>η</th>\n",
       "      <th>Seed</th>\n",
       "      <th>Wall time</th>\n",
       "      <th>Message count</th>\n",
       "      <th>Test accuracy</th>\n",
       "    </tr>\n",
       "  </thead>\n",
       "  <tbody>\n",
       "    <tr>\n",
       "      <th>0</th>\n",
       "      <td>1</td>\n",
       "      <td>FedAvg</td>\n",
       "      <td>100</td>\n",
       "      <td>0.2</td>\n",
       "      <td>200</td>\n",
       "      <td>2</td>\n",
       "      <td>0.02</td>\n",
       "      <td>42</td>\n",
       "      <td>0.1</td>\n",
       "      <td>40</td>\n",
       "      <td>29.24</td>\n",
       "    </tr>\n",
       "    <tr>\n",
       "      <th>1</th>\n",
       "      <td>2</td>\n",
       "      <td>FedAvg</td>\n",
       "      <td>100</td>\n",
       "      <td>0.2</td>\n",
       "      <td>200</td>\n",
       "      <td>2</td>\n",
       "      <td>0.02</td>\n",
       "      <td>42</td>\n",
       "      <td>0.3</td>\n",
       "      <td>80</td>\n",
       "      <td>60.59</td>\n",
       "    </tr>\n",
       "    <tr>\n",
       "      <th>2</th>\n",
       "      <td>3</td>\n",
       "      <td>FedAvg</td>\n",
       "      <td>100</td>\n",
       "      <td>0.2</td>\n",
       "      <td>200</td>\n",
       "      <td>2</td>\n",
       "      <td>0.02</td>\n",
       "      <td>42</td>\n",
       "      <td>0.4</td>\n",
       "      <td>120</td>\n",
       "      <td>70.04</td>\n",
       "    </tr>\n",
       "    <tr>\n",
       "      <th>3</th>\n",
       "      <td>4</td>\n",
       "      <td>FedAvg</td>\n",
       "      <td>100</td>\n",
       "      <td>0.2</td>\n",
       "      <td>200</td>\n",
       "      <td>2</td>\n",
       "      <td>0.02</td>\n",
       "      <td>42</td>\n",
       "      <td>0.6</td>\n",
       "      <td>160</td>\n",
       "      <td>77.62</td>\n",
       "    </tr>\n",
       "    <tr>\n",
       "      <th>4</th>\n",
       "      <td>5</td>\n",
       "      <td>FedAvg</td>\n",
       "      <td>100</td>\n",
       "      <td>0.2</td>\n",
       "      <td>200</td>\n",
       "      <td>2</td>\n",
       "      <td>0.02</td>\n",
       "      <td>42</td>\n",
       "      <td>0.7</td>\n",
       "      <td>200</td>\n",
       "      <td>79.99</td>\n",
       "    </tr>\n",
       "    <tr>\n",
       "      <th>5</th>\n",
       "      <td>6</td>\n",
       "      <td>FedAvg</td>\n",
       "      <td>100</td>\n",
       "      <td>0.2</td>\n",
       "      <td>200</td>\n",
       "      <td>2</td>\n",
       "      <td>0.02</td>\n",
       "      <td>42</td>\n",
       "      <td>0.8</td>\n",
       "      <td>240</td>\n",
       "      <td>82.92</td>\n",
       "    </tr>\n",
       "    <tr>\n",
       "      <th>6</th>\n",
       "      <td>7</td>\n",
       "      <td>FedAvg</td>\n",
       "      <td>100</td>\n",
       "      <td>0.2</td>\n",
       "      <td>200</td>\n",
       "      <td>2</td>\n",
       "      <td>0.02</td>\n",
       "      <td>42</td>\n",
       "      <td>1.0</td>\n",
       "      <td>280</td>\n",
       "      <td>85.77</td>\n",
       "    </tr>\n",
       "    <tr>\n",
       "      <th>7</th>\n",
       "      <td>8</td>\n",
       "      <td>FedAvg</td>\n",
       "      <td>100</td>\n",
       "      <td>0.2</td>\n",
       "      <td>200</td>\n",
       "      <td>2</td>\n",
       "      <td>0.02</td>\n",
       "      <td>42</td>\n",
       "      <td>1.1</td>\n",
       "      <td>320</td>\n",
       "      <td>86.23</td>\n",
       "    </tr>\n",
       "    <tr>\n",
       "      <th>8</th>\n",
       "      <td>9</td>\n",
       "      <td>FedAvg</td>\n",
       "      <td>100</td>\n",
       "      <td>0.2</td>\n",
       "      <td>200</td>\n",
       "      <td>2</td>\n",
       "      <td>0.02</td>\n",
       "      <td>42</td>\n",
       "      <td>1.3</td>\n",
       "      <td>360</td>\n",
       "      <td>88.34</td>\n",
       "    </tr>\n",
       "    <tr>\n",
       "      <th>9</th>\n",
       "      <td>10</td>\n",
       "      <td>FedAvg</td>\n",
       "      <td>100</td>\n",
       "      <td>0.2</td>\n",
       "      <td>200</td>\n",
       "      <td>2</td>\n",
       "      <td>0.02</td>\n",
       "      <td>42</td>\n",
       "      <td>1.4</td>\n",
       "      <td>400</td>\n",
       "      <td>89.31</td>\n",
       "    </tr>\n",
       "  </tbody>\n",
       "</table>\n",
       "</div>"
      ],
      "text/plain": [
       "   Round Algorithm    N    C    B  E     η  Seed  Wall time  Message count  \\\n",
       "0      1    FedAvg  100  0.2  200  2  0.02    42        0.1             40   \n",
       "1      2    FedAvg  100  0.2  200  2  0.02    42        0.3             80   \n",
       "2      3    FedAvg  100  0.2  200  2  0.02    42        0.4            120   \n",
       "3      4    FedAvg  100  0.2  200  2  0.02    42        0.6            160   \n",
       "4      5    FedAvg  100  0.2  200  2  0.02    42        0.7            200   \n",
       "5      6    FedAvg  100  0.2  200  2  0.02    42        0.8            240   \n",
       "6      7    FedAvg  100  0.2  200  2  0.02    42        1.0            280   \n",
       "7      8    FedAvg  100  0.2  200  2  0.02    42        1.1            320   \n",
       "8      9    FedAvg  100  0.2  200  2  0.02    42        1.3            360   \n",
       "9     10    FedAvg  100  0.2  200  2  0.02    42        1.4            400   \n",
       "\n",
       "   Test accuracy  \n",
       "0          29.24  \n",
       "1          60.59  \n",
       "2          70.04  \n",
       "3          77.62  \n",
       "4          79.99  \n",
       "5          82.92  \n",
       "6          85.77  \n",
       "7          86.23  \n",
       "8          88.34  \n",
       "9          89.31  "
      ]
     },
     "execution_count": 52,
     "metadata": {},
     "output_type": "execute_result"
    }
   ],
   "source": [
    "fedavg_server = FedAvgServerDefenseBulyan(0.02, 200, sample_split, 0.2, 2, 42, defense_1 = multi_krum, defense_2 = tr_mean)\n",
    "# fedavg_server = FedAvgServerDefense(0.02, 200, sample_split, 0.2, 2, 42, defense=krum)\n",
    "clients = fedavg_server.clients\n",
    "# Number of clients to be made malicious with gradient reversion\n",
    "num_malicious = int(0.20 * len(clients))  # For example, 20%\n",
    "# Randomly select indices for the clients to undergo gradient inversion attack\n",
    "malicious_indices = np.random.choice(len(clients), num_malicious, replace=False)\n",
    "# Replace the selected clients with instances of AttackerGradientInversion\n",
    "print(f'the following is the malicious indices: {np.sort(malicious_indices)}')\n",
    "for idx in malicious_indices:\n",
    "    client_data = clients[idx].loader_train.dataset\n",
    "    lr = clients[idx].optimizer.param_groups[0]['lr']\n",
    "    batch_size = clients[idx].loader_train.batch_size\n",
    "    nr_epochs = clients[idx].nr_epochs\n",
    "    clients[idx] = AttackerBackdoor(client_data, lr, batch_size, nr_epochs)\n",
    "\n",
    "result_fedavg_krum = fedavg_server.run(10)\n",
    "fedavg_df_krum = result_fedavg_krum.as_df()\n",
    "fedavg_df_krum"
   ]
  },
  {
   "attachments": {
    "40764930-c1b4-4b6c-84d2-cc6f43c6b402.png": {
     "image/png": "[encoded data removed]"
    }
   },
   "cell_type": "markdown",
   "metadata": {},
   "source": [
    "## Question 3: Implementing SparseFed Defense (7 points)\n",
    "\n",
    "In this exercise, you will implement the [SparseFed Defense](https://arxiv.org/abs/2112.06274). SparseFed Defense involves two main steps for each participating device during the training process:\n",
    "1. **Clipping the gradient:** Each device clips its gradient to reduce the impact of potentially malicious updates.\n",
    "2. **Aggregating top-k updates:** During the aggregation phase, only the gradients with the highest magnitudes (top-k) are considered. This method is designed to minimize the risk of model poisoning by excluding anomalous gradient contributions from potentially compromised devices.\n",
    "\n",
    "### Scoring:\n",
    "- _(2 points)_ Implement a simplified version of SparseFed based on the clipping code provided in the template notebook. Unlike the original algorithm which includes momentum, you only need to implement the clipping step and the sparsification step. However, ensure that only the top-k coordinates in the aggregated gradients are selected based on their magnitudes. For example, if the aggregated gradient is `[3, -1, -1, -3]`, selecting the top-2 by magnitude should result in `[3, 0, 0, -3]`.\n",
    "\n",
    "- _(3 points)_ Evaluate the performance of your implemented SparseFed defense against two types of attacks: `AttackerGradientReversion` and `AttackerBackdoor`. Adjust the values of the defense hyperparameter k to optimize defense effectiveness. Ensure the data distribution remains i.i.d., and the attacker's hyperparameters are unchanged from the template. Document and compare the performance of SparseFed to the simple clipping defense across these attack scenarios. Suggested values for k include percentages of the total parameters, such as 20%, 50%, and 80%.\n",
    "\n",
    "- _(2 points)_ Analyze and discuss the results to determine if SparseFed provided any improvements. Explain why the sparsefication either succeeded or failed in enhancing the model's robustness against the specified attacks. Include this analysis in your notebook.\n",
    "\n",
    "\n",
    "![image.png](attachment:40764930-c1b4-4b6c-84d2-cc6f43c6b402.png)\n"
   ]
  },
  {
   "cell_type": "markdown",
   "metadata": {},
   "source": [
    "### - _(2 points)_ Implement a simplified version of SparseFed based on the clipping code provided in the template notebook. Unlike the original algorithm which includes momentum, you only need to implement the clipping step and the sparsification step. However, ensure that only the top-k coordinates in the aggregated gradients are selected based on their magnitudes. For example, if the aggregated gradient is `[3, -1, -1, -3]`, selecting the top-2 by magnitude should result in `[3, 0, 0, -3]`."
   ]
  },
  {
   "cell_type": "code",
   "execution_count": 15,
   "metadata": {},
   "outputs": [],
   "source": [
    "def SparseFed(all_updates, clip_norm_ratio=1.0, noise_std_dev=0.01, top_k_percentage = 0.5):\n",
    "    # 'all_updates' is a list of lists of torch.Tensor objects,\n",
    "    # where each inner list contains the gradients for all parameters from one client.\n",
    "    \n",
    "    # Step 1: Calculate the norm of each client's update\n",
    "    norms = [torch.norm(torch.stack([torch.norm(p) for p in client_update])) for client_update in all_updates]\n",
    "    average_norm = sum(norms) / len(norms) * clip_norm_ratio\n",
    "    \n",
    "    # Step 2: Clip each client's update\n",
    "    clipped_updates = []\n",
    "    for client_update in all_updates:\n",
    "        clipped_update = []\n",
    "        client_norm = torch.norm(torch.stack([torch.norm(p) for p in client_update]))\n",
    "        clip_scale = min(1, average_norm / (client_norm + 1e-6))  # Avoid division by zero\n",
    "        for gradient in client_update:\n",
    "            clipped_gradient = gradient * clip_scale\n",
    "            clipped_update.append(clipped_gradient)\n",
    "        clipped_updates.append(clipped_update)\n",
    "    \n",
    "    # Step 3: Compute the average of these modified gradients\n",
    "    parameter_wise_updates = list(zip(*clipped_updates))\n",
    "    averaged_gradients = [torch.mean(torch.stack(parameter_group), dim=0)*20 for parameter_group in parameter_wise_updates]\n",
    "    \n",
    "    # Step 4: Select only top-k updates based on magnitude\n",
    "    top_k_averaged_gradients = []\n",
    "    flat_averaged_gradients = torch.cat([t.view(-1) for t in averaged_gradients])\n",
    "    k = int(top_k_percentage * flat_averaged_gradients.numel())\n",
    "    # print(flat_averaged_gradients.numel(), k)\n",
    "    if k == 0:\n",
    "        return [torch.zeros_like(t) for t in averaged_gradients]\n",
    "    _, indices = torch.topk(flat_averaged_gradients.abs(), k=k, largest=True, sorted=False)\n",
    "    mask = torch.zeros_like(flat_averaged_gradients)\n",
    "    mask[indices] = 1\n",
    "    index = 0\n",
    "    for gradient in averaged_gradients:\n",
    "        numel = gradient.numel()\n",
    "        tensor_mask = mask[index:index + numel].reshape(gradient.shape)\n",
    "        # print(tensor_mask.size())\n",
    "        top_k_averaged_gradients.append(gradient * tensor_mask)\n",
    "        index += numel\n",
    "\n",
    "    return averaged_gradients"
   ]
  },
  {
   "cell_type": "markdown",
   "metadata": {},
   "source": [
    "### - _(3 points)_ Evaluate the performance of your implemented SparseFed defense against two types of attacks: `AttackerGradientReversion` and `AttackerBackdoor`. Adjust the values of the defense hyperparameter k to optimize defense effectiveness. Ensure the data distribution remains i.i.d., and the attacker's hyperparameters are unchanged from the template. Document and compare the performance of SparseFed to the simple clipping defense across these attack scenarios. Suggested values for k include percentages of the total parameters, such as 20%, 50%, and 80%."
   ]
  },
  {
   "cell_type": "markdown",
   "metadata": {},
   "source": [
    "Simple Clipping"
   ]
  },
  {
   "cell_type": "code",
   "execution_count": 34,
   "metadata": {},
   "outputs": [],
   "source": [
    "def clipping(all_updates, clip_norm_ratio=1.0, noise_std_dev=0.01):\n",
    "    # 'all_updates' is a list of lists of torch.Tensor objects,\n",
    "    # where each inner list contains the gradients for all parameters from one client.\n",
    "    \n",
    "    # Step 1: Calculate the norm of each client's update\n",
    "    norms = [torch.norm(torch.stack([torch.norm(p) for p in client_update])) for client_update in all_updates]\n",
    "    average_norm = sum(norms) / len(norms) * clip_norm_ratio\n",
    "    \n",
    "    # Step 2: Clip each client's update\n",
    "    clipped_updates = []\n",
    "    for client_update in all_updates:\n",
    "        clipped_update = []\n",
    "        client_norm = torch.norm(torch.stack([torch.norm(p) for p in client_update]))\n",
    "        clip_scale = min(1, average_norm / (client_norm + 1e-6))  # Avoid division by zero\n",
    "        \n",
    "        for gradient in client_update:\n",
    "            clipped_gradient = gradient * clip_scale\n",
    "            \n",
    "            clipped_update.append(clipped_gradient)\n",
    "        \n",
    "        clipped_updates.append(clipped_update)\n",
    "    \n",
    "    # Step 4: Compute the average of these modified gradients\n",
    "    parameter_wise_updates = list(zip(*clipped_updates))\n",
    "    averaged_gradients = [torch.mean(torch.stack(parameter_group), dim=0)*20 for parameter_group in parameter_wise_updates]\n",
    "    \n",
    "    return averaged_gradients"
   ]
  },
  {
   "cell_type": "code",
   "execution_count": 35,
   "metadata": {},
   "outputs": [],
   "source": [
    "class FedAvgServerDefenseCoordinate_SparseFed(FedAvgGradServer):\n",
    "    def __init__(self, lr: float, batch_size: int, client_subsets: list, client_fraction: float, nr_local_epochs: int, seed: int, defense=None, top_k_percentage=None):\n",
    "        super().__init__(lr, batch_size, client_subsets, client_fraction, nr_local_epochs, seed)\n",
    "        self.defense_method = defense\n",
    "        self.top_k_percentage = top_k_percentage\n",
    "    def run(self, nr_rounds: int) -> RunResult:\n",
    "        elapsed_time = 0.\n",
    "        run_result = RunResult(self.name, self.nr_clients, self.client_fraction, self.batch_size, self.nr_local_epochs, self.lr, self.seed)\n",
    "        server_weights = [param.data.clone() for param in self.model.parameters()]\n",
    "        for nr_round in tqdm(range(nr_rounds), desc=\"Rounds\", leave=False):\n",
    "            setup_start_time = perf_counter()\n",
    "            self.model.train()\n",
    "            weights = [x.detach().cpu().clone() for x in self.model.parameters()]\n",
    "            indices_chosen_clients = self.rng.choice(self.nr_clients, self.nr_clients_per_round, replace=False)\n",
    "            chosen_sum_nr_samples = sum(self.client_sample_counts[i] for i in indices_chosen_clients)\n",
    "            chosen_adjusted_weights: list[list[torch.Tensor]] = []\n",
    "            elapsed_time += perf_counter() - setup_start_time\n",
    "            update_time = 0.\n",
    "            client_updates = []  # Store (client_index, updates) tuples\n",
    "            for c_i in indices_chosen_clients:\n",
    "                update_start_time = perf_counter()\n",
    "                ind = int(c_i)\n",
    "                client_round_seed = self.seed + ind + 1 + nr_round * self.nr_clients_per_round\n",
    "                client_weights = self.clients[ind].update(weights, client_round_seed)\n",
    "                chosen_adjusted_weights.append([\n",
    "                    self.client_sample_counts[ind] / chosen_sum_nr_samples * tens\n",
    "                     for tens in client_weights])\n",
    "                update_time = max(update_time, perf_counter() - update_start_time)\n",
    "            elapsed_time += update_time\n",
    "            aggregate_start_time = perf_counter()\n",
    "            if self.defense_method == SparseFed:\n",
    "                averaged_gradients = self.defense_method(chosen_adjusted_weights, top_k_percentage = self.top_k_percentage)\n",
    "            elif self.defense_method == clipping:\n",
    "                averaged_gradients = self.defense_method(chosen_adjusted_weights)\n",
    "            else:\n",
    "                averaged_gradients: list[torch.Tensor] = [sum(x) for x in zip(*chosen_adjusted_weights)]\n",
    "            with torch.no_grad():\n",
    "                for server_weight, gradient in zip(server_weights, averaged_gradients):\n",
    "                    server_weight -= gradient.to(device=device)\n",
    "            with torch.no_grad():\n",
    "                for param, server_weight in zip(self.model.parameters(), server_weights):\n",
    "                    param.data[:] = server_weight.data\n",
    "            elapsed_time += perf_counter() - aggregate_start_time\n",
    "            run_result.wall_time.append(round(elapsed_time, 1))\n",
    "            run_result.message_count.append(2 * (nr_round + 1) * self.nr_clients_per_round)\n",
    "            run_result.test_accuracy.append(self.test())\n",
    "\n",
    "        return run_result"
   ]
  },
  {
   "cell_type": "code",
   "execution_count": 36,
   "metadata": {},
   "outputs": [],
   "source": [
    "sample_split = split(100, True, 42)\n",
    "result_clipping = []\n",
    "defenses = [clipping, SparseFed, SparseFed, SparseFed]\n",
    "top_k_percentage = [None, 0.2, 0.5, 0.8]"
   ]
  },
  {
   "cell_type": "code",
   "execution_count": 37,
   "metadata": {},
   "outputs": [
    {
     "name": "stdout",
     "output_type": "stream",
     "text": [
      "Defense Type: clipping - Top K Percentage: None\n"
     ]
    },
    {
     "name": "stderr",
     "output_type": "stream",
     "text": [
      "                                                       \r"
     ]
    },
    {
     "name": "stdout",
     "output_type": "stream",
     "text": [
      "0    18.17\n",
      "1     9.65\n",
      "2    33.06\n",
      "3    56.78\n",
      "4    50.71\n",
      "5    51.98\n",
      "6    55.11\n",
      "7    61.68\n",
      "8    68.04\n",
      "9    71.96\n",
      "Name: Test accuracy, dtype: float64\n",
      "Defense Type: SparseFed - Top K Percentage: 0.2\n"
     ]
    },
    {
     "name": "stderr",
     "output_type": "stream",
     "text": [
      "                                                       \r"
     ]
    },
    {
     "name": "stdout",
     "output_type": "stream",
     "text": [
      "0     9.84\n",
      "1    20.05\n",
      "2    44.36\n",
      "3    55.53\n",
      "4    61.06\n",
      "5    70.95\n",
      "6    73.92\n",
      "7    76.54\n",
      "8    77.02\n",
      "9    79.91\n",
      "Name: Test accuracy, dtype: float64\n",
      "Defense Type: SparseFed - Top K Percentage: 0.5\n"
     ]
    },
    {
     "name": "stderr",
     "output_type": "stream",
     "text": [
      "                                                       \r"
     ]
    },
    {
     "name": "stdout",
     "output_type": "stream",
     "text": [
      "0    11.07\n",
      "1    31.66\n",
      "2    32.26\n",
      "3    42.83\n",
      "4    35.97\n",
      "5    53.07\n",
      "6    65.73\n",
      "7    67.88\n",
      "8    72.19\n",
      "9    74.71\n",
      "Name: Test accuracy, dtype: float64\n",
      "Defense Type: SparseFed - Top K Percentage: 0.8\n"
     ]
    },
    {
     "name": "stderr",
     "output_type": "stream",
     "text": [
      "                                                       "
     ]
    },
    {
     "name": "stdout",
     "output_type": "stream",
     "text": [
      "0    16.87\n",
      "1    31.04\n",
      "2    53.31\n",
      "3    63.33\n",
      "4    68.53\n",
      "5    73.33\n",
      "6    74.97\n",
      "7    73.98\n",
      "8    76.90\n",
      "9    77.96\n",
      "Name: Test accuracy, dtype: float64\n"
     ]
    },
    {
     "name": "stderr",
     "output_type": "stream",
     "text": [
      "\r"
     ]
    },
    {
     "data": {
      "text/html": [
       "<div>\n",
       "<style scoped>\n",
       "    .dataframe tbody tr th:only-of-type {\n",
       "        vertical-align: middle;\n",
       "    }\n",
       "\n",
       "    .dataframe tbody tr th {\n",
       "        vertical-align: top;\n",
       "    }\n",
       "\n",
       "    .dataframe thead th {\n",
       "        text-align: right;\n",
       "    }\n",
       "</style>\n",
       "<table border=\"1\" class=\"dataframe\">\n",
       "  <thead>\n",
       "    <tr style=\"text-align: right;\">\n",
       "      <th></th>\n",
       "      <th>Round</th>\n",
       "      <th>Algorithm</th>\n",
       "      <th>N</th>\n",
       "      <th>C</th>\n",
       "      <th>B</th>\n",
       "      <th>E</th>\n",
       "      <th>η</th>\n",
       "      <th>Seed</th>\n",
       "      <th>Wall time</th>\n",
       "      <th>Message count</th>\n",
       "      <th>Test accuracy</th>\n",
       "    </tr>\n",
       "  </thead>\n",
       "  <tbody>\n",
       "    <tr>\n",
       "      <th>0</th>\n",
       "      <td>1</td>\n",
       "      <td>FedAvg</td>\n",
       "      <td>100</td>\n",
       "      <td>0.2</td>\n",
       "      <td>200</td>\n",
       "      <td>2</td>\n",
       "      <td>0.02</td>\n",
       "      <td>42</td>\n",
       "      <td>0.1</td>\n",
       "      <td>40</td>\n",
       "      <td>16.87</td>\n",
       "    </tr>\n",
       "    <tr>\n",
       "      <th>1</th>\n",
       "      <td>2</td>\n",
       "      <td>FedAvg</td>\n",
       "      <td>100</td>\n",
       "      <td>0.2</td>\n",
       "      <td>200</td>\n",
       "      <td>2</td>\n",
       "      <td>0.02</td>\n",
       "      <td>42</td>\n",
       "      <td>0.2</td>\n",
       "      <td>80</td>\n",
       "      <td>31.04</td>\n",
       "    </tr>\n",
       "    <tr>\n",
       "      <th>2</th>\n",
       "      <td>3</td>\n",
       "      <td>FedAvg</td>\n",
       "      <td>100</td>\n",
       "      <td>0.2</td>\n",
       "      <td>200</td>\n",
       "      <td>2</td>\n",
       "      <td>0.02</td>\n",
       "      <td>42</td>\n",
       "      <td>0.3</td>\n",
       "      <td>120</td>\n",
       "      <td>53.31</td>\n",
       "    </tr>\n",
       "    <tr>\n",
       "      <th>3</th>\n",
       "      <td>4</td>\n",
       "      <td>FedAvg</td>\n",
       "      <td>100</td>\n",
       "      <td>0.2</td>\n",
       "      <td>200</td>\n",
       "      <td>2</td>\n",
       "      <td>0.02</td>\n",
       "      <td>42</td>\n",
       "      <td>0.5</td>\n",
       "      <td>160</td>\n",
       "      <td>63.33</td>\n",
       "    </tr>\n",
       "    <tr>\n",
       "      <th>4</th>\n",
       "      <td>5</td>\n",
       "      <td>FedAvg</td>\n",
       "      <td>100</td>\n",
       "      <td>0.2</td>\n",
       "      <td>200</td>\n",
       "      <td>2</td>\n",
       "      <td>0.02</td>\n",
       "      <td>42</td>\n",
       "      <td>0.6</td>\n",
       "      <td>200</td>\n",
       "      <td>68.53</td>\n",
       "    </tr>\n",
       "    <tr>\n",
       "      <th>5</th>\n",
       "      <td>6</td>\n",
       "      <td>FedAvg</td>\n",
       "      <td>100</td>\n",
       "      <td>0.2</td>\n",
       "      <td>200</td>\n",
       "      <td>2</td>\n",
       "      <td>0.02</td>\n",
       "      <td>42</td>\n",
       "      <td>0.7</td>\n",
       "      <td>240</td>\n",
       "      <td>73.33</td>\n",
       "    </tr>\n",
       "    <tr>\n",
       "      <th>6</th>\n",
       "      <td>7</td>\n",
       "      <td>FedAvg</td>\n",
       "      <td>100</td>\n",
       "      <td>0.2</td>\n",
       "      <td>200</td>\n",
       "      <td>2</td>\n",
       "      <td>0.02</td>\n",
       "      <td>42</td>\n",
       "      <td>0.8</td>\n",
       "      <td>280</td>\n",
       "      <td>74.97</td>\n",
       "    </tr>\n",
       "    <tr>\n",
       "      <th>7</th>\n",
       "      <td>8</td>\n",
       "      <td>FedAvg</td>\n",
       "      <td>100</td>\n",
       "      <td>0.2</td>\n",
       "      <td>200</td>\n",
       "      <td>2</td>\n",
       "      <td>0.02</td>\n",
       "      <td>42</td>\n",
       "      <td>0.9</td>\n",
       "      <td>320</td>\n",
       "      <td>73.98</td>\n",
       "    </tr>\n",
       "    <tr>\n",
       "      <th>8</th>\n",
       "      <td>9</td>\n",
       "      <td>FedAvg</td>\n",
       "      <td>100</td>\n",
       "      <td>0.2</td>\n",
       "      <td>200</td>\n",
       "      <td>2</td>\n",
       "      <td>0.02</td>\n",
       "      <td>42</td>\n",
       "      <td>1.0</td>\n",
       "      <td>360</td>\n",
       "      <td>76.90</td>\n",
       "    </tr>\n",
       "    <tr>\n",
       "      <th>9</th>\n",
       "      <td>10</td>\n",
       "      <td>FedAvg</td>\n",
       "      <td>100</td>\n",
       "      <td>0.2</td>\n",
       "      <td>200</td>\n",
       "      <td>2</td>\n",
       "      <td>0.02</td>\n",
       "      <td>42</td>\n",
       "      <td>1.1</td>\n",
       "      <td>400</td>\n",
       "      <td>77.96</td>\n",
       "    </tr>\n",
       "  </tbody>\n",
       "</table>\n",
       "</div>"
      ],
      "text/plain": [
       "   Round Algorithm    N    C    B  E     η  Seed  Wall time  Message count  \\\n",
       "0      1    FedAvg  100  0.2  200  2  0.02    42        0.1             40   \n",
       "1      2    FedAvg  100  0.2  200  2  0.02    42        0.2             80   \n",
       "2      3    FedAvg  100  0.2  200  2  0.02    42        0.3            120   \n",
       "3      4    FedAvg  100  0.2  200  2  0.02    42        0.5            160   \n",
       "4      5    FedAvg  100  0.2  200  2  0.02    42        0.6            200   \n",
       "5      6    FedAvg  100  0.2  200  2  0.02    42        0.7            240   \n",
       "6      7    FedAvg  100  0.2  200  2  0.02    42        0.8            280   \n",
       "7      8    FedAvg  100  0.2  200  2  0.02    42        0.9            320   \n",
       "8      9    FedAvg  100  0.2  200  2  0.02    42        1.0            360   \n",
       "9     10    FedAvg  100  0.2  200  2  0.02    42        1.1            400   \n",
       "\n",
       "   Test accuracy  \n",
       "0          16.87  \n",
       "1          31.04  \n",
       "2          53.31  \n",
       "3          63.33  \n",
       "4          68.53  \n",
       "5          73.33  \n",
       "6          74.97  \n",
       "7          73.98  \n",
       "8          76.90  \n",
       "9          77.96  "
      ]
     },
     "execution_count": 37,
     "metadata": {},
     "output_type": "execute_result"
    }
   ],
   "source": [
    "for index in range(len(defenses)):\n",
    "    print(f'Defense Type: {defenses[index].__name__} - Top K Percentage: {top_k_percentage[index]}')\n",
    "    fedavg_server = FedAvgServerDefenseCoordinate_SparseFed(0.02, 200, sample_split, 0.2, 2, 42, defense=defenses[index], top_k_percentage=top_k_percentage[index])\n",
    "    clients = fedavg_server.clients\n",
    "    num_malicious = int(0.20 * len(clients))\n",
    "    malicious_indices = np.random.choice(len(clients), num_malicious, replace=False)\n",
    "    for idx in malicious_indices:\n",
    "        client_data = clients[idx].loader_train.dataset\n",
    "        lr = clients[idx].optimizer.param_groups[0]['lr']\n",
    "        batch_size = clients[idx].loader_train.batch_size\n",
    "        nr_epochs = clients[idx].nr_epochs\n",
    "        clients[idx] = AttackerGradientReversion(client_data, lr, batch_size, nr_epochs)\n",
    "    result_fedavg_clipping = fedavg_server.run(10)\n",
    "    fedavg_df_clipping = result_fedavg_clipping.as_df()\n",
    "    result_clipping.append(fedavg_df_clipping)\n",
    "    print(result_clipping[-1]['Test accuracy'])\n",
    "fedavg_df_clipping"
   ]
  },
  {
   "cell_type": "code",
   "execution_count": 40,
   "metadata": {},
   "outputs": [
    {
     "data": {
      "image/png": "[encoded data removed]",
      "text/plain": [
       "<Figure size 1000x600 with 1 Axes>"
      ]
     },
     "metadata": {},
     "output_type": "display_data"
    }
   ],
   "source": [
    "import pandas as pd\n",
    "import matplotlib.pyplot as plt\n",
    "\n",
    "test_accuracies = pd.DataFrame({\n",
    "    'Defense Type: Clipping - Top K Percentage: None': result_clipping[0]['Test accuracy'],\n",
    "    'Defense Type: SparseFed - Top K Percentage: 0.2': result_clipping[1]['Test accuracy'],\n",
    "    'Defense Type: SparseFed - Top K Percentage: 0.5': result_clipping[2]['Test accuracy'],\n",
    "    'Defense Type: SparseFed - Top K Percentage: 0.8': result_clipping[3]['Test accuracy'],\n",
    "})\n",
    "\n",
    "plt.figure(figsize=(10, 6))\n",
    "for column in test_accuracies.columns:\n",
    "    plt.plot(test_accuracies[column], label=column)\n",
    "\n",
    "plt.title('Test Accuracy Comparison')\n",
    "plt.xlabel('Rounds')\n",
    "plt.ylabel('Test Accuracy')\n",
    "plt.legend()\n",
    "plt.show()"
   ]
  },
  {
   "cell_type": "markdown",
   "metadata": {},
   "source": [
    "### - _(2 points)_ Analyze and discuss the results to determine if SparseFed provided any improvements. Explain why the sparsefication either succeeded or failed in enhancing the model's robustness against the specified attacks. Include this analysis in your notebook."
   ]
  },
  {
   "cell_type": "markdown",
   "metadata": {},
   "source": [
    "It can be seen that both clipping and SparseFed experiments are not very good, suggesting that using norm for scaling may not be a good approach. I analyzed the effect of L2-norm on gradient (attached in the appendix) and came to the following conclusions:\n",
    "\n",
    "- Fixing the number of poisonous gradients, clipping can reduce the poisonous gradients when there are not so many gradients, but it is not very useful;\n",
    "\n",
    "- When the gradients become very large, scale = 1, it is no longer possible to limit the poisonous gradients.\n",
    "\n",
    "SparseFed works a little better than clipping. I analyzed it and found that in fact the process of choosing the Top-K gradient doesn't actually filter out toxic gradients, as I said earlier. The purpose of choosing Top-K gradient is to select a batch of larger gradients, which may be benign or toxic gradients (I think if it is a partly gradient reverse attack, it will definitely select toxic gradients). If they are averaged, the benign gradients can “hold back” the toxic gradients, but if the top-k is not selected (i.e., the smaller gradients are kept), the smaller gradients will weaken the larger benign gradients.\n",
    "\n",
    "I've drawn a diagram to make this easier to understand, please see in demo.png\n",
    "\n",
    "https://github.com/Sosekie/DDLS_Assignment/blob/main/lab/demo.png"
   ]
  },
  {
   "cell_type": "markdown",
   "metadata": {},
   "source": [
    "### For any questions regarding this assignment, send an email to c.zhu-2@tudelft.nl"
   ]
  },
  {
   "cell_type": "markdown",
   "metadata": {},
   "source": [
    "Appendice.\n",
    "\n",
    "Experiments on the usefulness of norm."
   ]
  },
  {
   "cell_type": "code",
   "execution_count": 147,
   "metadata": {},
   "outputs": [],
   "source": [
    "import math\n",
    "\n",
    "num_ones = 9999\n",
    "large_value = 10\n",
    "norm = math.sqrt(num_ones * 10**2 + 1*large_value**2)\n",
    "norm = 1000.0 # average norm\n",
    "\n",
    "large_value = 10*1000\n",
    "norm = math.sqrt(num_ones * 10**2 + 1*large_value**2)\n",
    "norm = 10049.87 # then the scale is near 1/10\n",
    "\n",
    "num_ones = 100000\n",
    "reverse = 1\n",
    "norm = math.sqrt(num_ones * (2*reverse)**2)\n",
    "norm = 632.45\n",
    "\n",
    "num_ones = 100000\n",
    "reverse = -5\n",
    "norm = math.sqrt(num_ones * (2*reverse)**2)\n",
    "norm = 3162.27 # means krum will work\n",
    "\n",
    "# if partly change, even only one gradient\n",
    "num_ones = 99999\n",
    "large_value = 2*(-1000)\n",
    "norm = math.sqrt(num_ones * 2**2 + 1*large_value**2)\n",
    "norm = 2097.61 > 632.45 # means krum will work too\n",
    "\n",
    "# scale num_ones\n",
    "num_ones = 999999\n",
    "large_value = 2*(-1000)\n",
    "norm = math.sqrt(num_ones * 2**2 + 1*large_value**2)\n",
    "norm = 2828.42 # average norm=2000.0, still have some distance\n",
    "\n",
    "# continue scale num_ones\n",
    "num_ones = 9999999\n",
    "large_value = 2*(-1000)\n",
    "norm = math.sqrt(num_ones * 2**2 + 1*large_value**2)\n",
    "norm = 6633.24 # average norm=6324.55, \n",
    "\n",
    "num_ones = 9999000\n",
    "large_value = 2*(-1000)\n",
    "norm = math.sqrt(num_ones * 2**2 + 1000*large_value**2)\n",
    "norm = 63560.96\n"
   ]
  }
 ],
 "metadata": {
  "kernelspec": {
   "display_name": "Python 3 (ipykernel)",
   "language": "python",
   "name": "python3"
  },
  "language_info": {
   "codemirror_mode": {
    "name": "ipython",
    "version": 3
   },
   "file_extension": ".py",
   "mimetype": "text/x-python",
   "name": "python",
   "nbconvert_exporter": "python",
   "pygments_lexer": "ipython3",
   "version": "3.12.2"
  }
 },
 "nbformat": 4,
 "nbformat_minor": 4
}
